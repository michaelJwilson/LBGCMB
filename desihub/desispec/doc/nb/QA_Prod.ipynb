{
 "cells": [
  {
   "cell_type": "markdown",
   "metadata": {},
   "source": [
    "# QA_Prod (v1.2)"
   ]
  },
  {
   "cell_type": "code",
   "execution_count": 17,
   "metadata": {
    "collapsed": true
   },
   "outputs": [],
   "source": [
    "%matplotlib inline"
   ]
  },
  {
   "cell_type": "code",
   "execution_count": 14,
   "metadata": {
    "collapsed": true
   },
   "outputs": [],
   "source": [
    "# imports\n",
    "import os\n",
    "from imp import reload\n",
    "from desispec.qa import qa_prod as dqap\n",
    "from matplotlib import pyplot as plt"
   ]
  },
  {
   "cell_type": "markdown",
   "metadata": {},
   "source": [
    "## Init\n",
    "\n",
    "    export DESI_SPECTRO_REDUX=/media/xavier/ExtraDrive2/DESI/DESI_SCRATCH/\n",
    "    export SPECPROD=dc17a2"
   ]
  },
  {
   "cell_type": "code",
   "execution_count": 3,
   "metadata": {
    "collapsed": true
   },
   "outputs": [],
   "source": [
    "os.environ['DESI_SPECTRO_REDUX'] = '/media/xavier/ExtraDrive2/DESI/DESI_SCRATCH/'\n",
    "os.environ['SPECPROD'] = 'dc17a2'"
   ]
  },
  {
   "cell_type": "code",
   "execution_count": 4,
   "metadata": {},
   "outputs": [],
   "source": [
    "reload(dqap)\n",
    "qa_prod = dqap.QA_Prod()"
   ]
  },
  {
   "cell_type": "markdown",
   "metadata": {},
   "source": [
    "## Remake"
   ]
  },
  {
   "cell_type": "markdown",
   "metadata": {},
   "source": [
    "#### In Python"
   ]
  },
  {
   "cell_type": "code",
   "execution_count": null,
   "metadata": {
    "collapsed": true
   },
   "outputs": [],
   "source": [
    "qa_prod.remake_frame_qa(remake_plots=True)"
   ]
  },
  {
   "cell_type": "markdown",
   "metadata": {},
   "source": [
    "#### Script\n",
    "\n",
    "    desi_qa_prod --remake_frameqa 3  "
   ]
  },
  {
   "cell_type": "markdown",
   "metadata": {},
   "source": [
    "## Slurp"
   ]
  },
  {
   "cell_type": "markdown",
   "metadata": {},
   "source": [
    "#### In Python"
   ]
  },
  {
   "cell_type": "code",
   "execution_count": null,
   "metadata": {
    "collapsed": true
   },
   "outputs": [],
   "source": [
    "qa_prod.slurp(remove=False)"
   ]
  },
  {
   "cell_type": "markdown",
   "metadata": {},
   "source": [
    "#### Script\n",
    "    desi_qa_prod --slurp"
   ]
  },
  {
   "cell_type": "markdown",
   "metadata": {
    "collapsed": true
   },
   "source": [
    "## Parsing QA Data"
   ]
  },
  {
   "cell_type": "code",
   "execution_count": 22,
   "metadata": {
    "collapsed": true
   },
   "outputs": [],
   "source": [
    "reload(dqap)\n",
    "qa_prod = dqap.QA_Prod()"
   ]
  },
  {
   "cell_type": "markdown",
   "metadata": {},
   "source": [
    "### Load QA"
   ]
  },
  {
   "cell_type": "code",
   "execution_count": 23,
   "metadata": {},
   "outputs": [
    {
     "name": "stdout",
     "output_type": "stream",
     "text": [
      "INFO:qa.py:197:load_qa_prod: Loading QA prod file: /media/xavier/ExtraDrive2/DESI/DESI_SCRATCH/dc17a2/dc17a2_qa.json\n"
     ]
    }
   ],
   "source": [
    "qa_prod.load_data()"
   ]
  },
  {
   "cell_type": "markdown",
   "metadata": {},
   "source": [
    "### One entry"
   ]
  },
  {
   "cell_type": "code",
   "execution_count": 24,
   "metadata": {},
   "outputs": [
    {
     "data": {
      "text/plain": [
       "{'METRICS': {'MAX_ZP_OFF': [0.0, 89],\n",
       "  'NSTARS_FIBER': 10,\n",
       "  'RMS_ZP': 0.0,\n",
       "  'ZP': 24.992222701906876},\n",
       " 'PARAMS': {'MAX_ZP_OFF': 0.2, 'ZP_WAVE': 4800.0}}"
      ]
     },
     "execution_count": 24,
     "metadata": {},
     "output_type": "execute_result"
    }
   ],
   "source": [
    "qa_prod.data['20190902']['77']['b0']['FLUXCALIB']"
   ]
  },
  {
   "cell_type": "markdown",
   "metadata": {},
   "source": [
    "### Grab a Table of QA values"
   ]
  },
  {
   "cell_type": "code",
   "execution_count": 25,
   "metadata": {},
   "outputs": [
    {
     "data": {
      "text/html": [
       "&lt;Table length=538&gt;\n",
       "<table id=\"table140593075843024\" class=\"table-striped table-bordered table-condensed\">\n",
       "<thead><tr><th>MED_RESID</th><th>EXPID</th><th>DATE-OBS</th><th>NIGHT</th><th>EXPTIME</th><th>AIRMASS</th><th>FLAVOR</th></tr></thead>\n",
       "<thead><tr><th>float64</th><th>str3</th><th>str23</th><th>str8</th><th>float64</th><th>float64</th><th>str7</th></tr></thead>\n",
       "<tr><td>-2.82676696777</td><td>102</td><td>2019-09-04T02:57:42.140</td><td>20190903</td><td>1659.19462354</td><td>1.00295168867</td><td>science</td></tr>\n",
       "<tr><td>-0.0353164672852</td><td>102</td><td>2019-09-04T02:57:42.140</td><td>20190903</td><td>1659.19462354</td><td>1.00295168867</td><td>science</td></tr>\n",
       "<tr><td>-1.5545539856</td><td>102</td><td>2019-09-04T02:57:42.140</td><td>20190903</td><td>1659.19462354</td><td>1.00295168867</td><td>science</td></tr>\n",
       "<tr><td>-0.122116088867</td><td>102</td><td>2019-09-04T02:57:42.140</td><td>20190903</td><td>1659.19462354</td><td>1.00295168867</td><td>science</td></tr>\n",
       "<tr><td>-0.644577026367</td><td>102</td><td>2019-09-04T02:57:42.140</td><td>20190903</td><td>1659.19462354</td><td>1.00295168867</td><td>science</td></tr>\n",
       "<tr><td>-1.24170303345</td><td>102</td><td>2019-09-04T02:57:42.140</td><td>20190903</td><td>1659.19462354</td><td>1.00295168867</td><td>science</td></tr>\n",
       "<tr><td>-2.8331451416</td><td>102</td><td>2019-09-04T02:57:42.140</td><td>20190903</td><td>1659.19462354</td><td>1.00295168867</td><td>science</td></tr>\n",
       "<tr><td>4.02098464966</td><td>102</td><td>2019-09-04T02:57:42.140</td><td>20190903</td><td>1659.19462354</td><td>1.00295168867</td><td>science</td></tr>\n",
       "<tr><td>-1.18046569824</td><td>102</td><td>2019-09-04T02:57:42.140</td><td>20190903</td><td>1659.19462354</td><td>1.00295168867</td><td>science</td></tr>\n",
       "<tr><td>1.4949798584</td><td>102</td><td>2019-09-04T02:57:42.140</td><td>20190903</td><td>1659.19462354</td><td>1.00295168867</td><td>science</td></tr>\n",
       "<tr><td>...</td><td>...</td><td>...</td><td>...</td><td>...</td><td>...</td><td>...</td></tr>\n",
       "<tr><td>-0.0479984283447</td><td>95</td><td>2019-09-03T12:25:25.314</td><td>20190902</td><td>2162.35194242</td><td>1.47840550547</td><td>science</td></tr>\n",
       "<tr><td>-1.52632141113</td><td>95</td><td>2019-09-03T12:25:25.314</td><td>20190902</td><td>2162.35194242</td><td>1.47840550547</td><td>science</td></tr>\n",
       "<tr><td>-1.78218841553</td><td>95</td><td>2019-09-03T12:25:25.314</td><td>20190902</td><td>2162.35194242</td><td>1.47840550547</td><td>science</td></tr>\n",
       "<tr><td>0.507442474365</td><td>95</td><td>2019-09-03T12:25:25.314</td><td>20190902</td><td>2162.35194242</td><td>1.47840550547</td><td>science</td></tr>\n",
       "<tr><td>-1.31680297852</td><td>95</td><td>2019-09-03T12:25:25.314</td><td>20190902</td><td>2162.35194242</td><td>1.47840550547</td><td>science</td></tr>\n",
       "<tr><td>-2.956615448</td><td>95</td><td>2019-09-03T12:25:25.314</td><td>20190902</td><td>2162.35194242</td><td>1.47840550547</td><td>science</td></tr>\n",
       "<tr><td>-5.881690979</td><td>95</td><td>2019-09-03T12:25:25.314</td><td>20190902</td><td>2162.35194242</td><td>1.47840550547</td><td>science</td></tr>\n",
       "<tr><td>-3.80168151855</td><td>95</td><td>2019-09-03T12:25:25.314</td><td>20190902</td><td>2162.35194242</td><td>1.47840550547</td><td>science</td></tr>\n",
       "<tr><td>1.15336608887</td><td>95</td><td>2019-09-03T12:25:25.314</td><td>20190902</td><td>2162.35194242</td><td>1.47840550547</td><td>science</td></tr>\n",
       "<tr><td>1.36659812927</td><td>95</td><td>2019-09-03T12:25:25.314</td><td>20190902</td><td>2162.35194242</td><td>1.47840550547</td><td>science</td></tr>\n",
       "</table>"
      ],
      "text/plain": [
       "<Table length=538>\n",
       "   MED_RESID     EXPID         DATE-OBS        ...    AIRMASS     FLAVOR\n",
       "    float64       str3          str23          ...    float64      str7 \n",
       "---------------- ----- ----------------------- ... ------------- -------\n",
       "  -2.82676696777   102 2019-09-04T02:57:42.140 ... 1.00295168867 science\n",
       "-0.0353164672852   102 2019-09-04T02:57:42.140 ... 1.00295168867 science\n",
       "   -1.5545539856   102 2019-09-04T02:57:42.140 ... 1.00295168867 science\n",
       " -0.122116088867   102 2019-09-04T02:57:42.140 ... 1.00295168867 science\n",
       " -0.644577026367   102 2019-09-04T02:57:42.140 ... 1.00295168867 science\n",
       "  -1.24170303345   102 2019-09-04T02:57:42.140 ... 1.00295168867 science\n",
       "   -2.8331451416   102 2019-09-04T02:57:42.140 ... 1.00295168867 science\n",
       "   4.02098464966   102 2019-09-04T02:57:42.140 ... 1.00295168867 science\n",
       "  -1.18046569824   102 2019-09-04T02:57:42.140 ... 1.00295168867 science\n",
       "    1.4949798584   102 2019-09-04T02:57:42.140 ... 1.00295168867 science\n",
       "             ...   ...                     ... ...           ...     ...\n",
       "-0.0479984283447    95 2019-09-03T12:25:25.314 ... 1.47840550547 science\n",
       "  -1.52632141113    95 2019-09-03T12:25:25.314 ... 1.47840550547 science\n",
       "  -1.78218841553    95 2019-09-03T12:25:25.314 ... 1.47840550547 science\n",
       "  0.507442474365    95 2019-09-03T12:25:25.314 ... 1.47840550547 science\n",
       "  -1.31680297852    95 2019-09-03T12:25:25.314 ... 1.47840550547 science\n",
       "    -2.956615448    95 2019-09-03T12:25:25.314 ... 1.47840550547 science\n",
       "    -5.881690979    95 2019-09-03T12:25:25.314 ... 1.47840550547 science\n",
       "  -3.80168151855    95 2019-09-03T12:25:25.314 ... 1.47840550547 science\n",
       "   1.15336608887    95 2019-09-03T12:25:25.314 ... 1.47840550547 science\n",
       "   1.36659812927    95 2019-09-03T12:25:25.314 ... 1.47840550547 science"
      ]
     },
     "execution_count": 25,
     "metadata": {},
     "output_type": "execute_result"
    }
   ],
   "source": [
    "qa_tbl = qa_prod.get_qa_table('SKYSUB', 'MED_RESID', channels=['b'])\n",
    "qa_tbl"
   ]
  },
  {
   "cell_type": "markdown",
   "metadata": {},
   "source": [
    "### Histogram"
   ]
  },
  {
   "cell_type": "code",
   "execution_count": 18,
   "metadata": {},
   "outputs": [
    {
     "data": {
      "text/plain": [
       "<matplotlib.text.Text at 0x7fde65fc7080>"
      ]
     },
     "execution_count": 18,
     "metadata": {},
     "output_type": "execute_result"
    },
    {
     "data": {
      "image/png": "[encoded data removed]",
      "text/plain": [
       "<matplotlib.figure.Figure at 0x7fde65f65cf8>"
      ]
     },
     "metadata": {},
     "output_type": "display_data"
    }
   ],
   "source": [
    "plt.clf()\n",
    "ax = plt.gca()\n",
    "ax.hist(qa_tbl['MED_RESID'])\n",
    "ax.set_xlim(-15,15)\n",
    "ax.set_xlabel('MED_SKY_RESID')"
   ]
  },
  {
   "cell_type": "markdown",
   "metadata": {
    "collapsed": true
   },
   "source": [
    "## Camera Histograms"
   ]
  },
  {
   "cell_type": "code",
   "execution_count": 19,
   "metadata": {},
   "outputs": [
    {
     "name": "stderr",
     "output_type": "stream",
     "text": [
      "/home/xavier/.pyenv/versions/anaconda3-4.4.0/lib/python3.6/site-packages/matplotlib/__init__.py:1405: UserWarning: \n",
      "This call to matplotlib.use() has no effect because the backend has already\n",
      "been chosen; matplotlib.use() must be called *before* pylab, matplotlib.pyplot,\n",
      "or matplotlib.backends is imported for the first time.\n",
      "\n",
      "  warnings.warn(_use_error_msg)\n"
     ]
    }
   ],
   "source": [
    "from desispec.qa import qa_plots as dqqp"
   ]
  },
  {
   "cell_type": "markdown",
   "metadata": {},
   "source": [
    "### In Python"
   ]
  },
  {
   "cell_type": "code",
   "execution_count": 28,
   "metadata": {},
   "outputs": [
    {
     "data": {
      "image/png": "[encoded data removed]",
      "text/plain": [
       "<matplotlib.figure.Figure at 0x7fde5fefdf98>"
      ]
     },
     "metadata": {},
     "output_type": "display_data"
    }
   ],
   "source": [
    "reload(dqqp)\n",
    "dqqp.prod_channel_hist(qa_prod, 'SKYSUB', 'MED_RESID', xlim=(-15,15))"
   ]
  },
  {
   "cell_type": "markdown",
   "metadata": {},
   "source": [
    "### Script\n",
    "     desi_qa_prod --channel_hist=default"
   ]
  },
  {
   "cell_type": "markdown",
   "metadata": {
    "collapsed": true
   },
   "source": [
    "## Time Series plot"
   ]
  },
  {
   "cell_type": "code",
   "execution_count": 29,
   "metadata": {
    "collapsed": true
   },
   "outputs": [],
   "source": [
    "qatype = 'SKYSUB'\n",
    "metric = 'MED_RESID'"
   ]
  },
  {
   "cell_type": "markdown",
   "metadata": {},
   "source": [
    "### In Python"
   ]
  },
  {
   "cell_type": "code",
   "execution_count": 31,
   "metadata": {},
   "outputs": [
    {
     "data": {
      "image/png": "[encoded data removed]",
      "text/plain": [
       "<matplotlib.figure.Figure at 0x7fde60857438>"
      ]
     },
     "metadata": {},
     "output_type": "display_data"
    }
   ],
   "source": [
    "reload(dqqp)\n",
    "dqqp.prod_time_series(qa_prod, qatype, metric)"
   ]
  },
  {
   "cell_type": "markdown",
   "metadata": {},
   "source": [
    "### Script\n",
    "    desi_qa_prod --time_series=SKYSUB-MED_RESID"
   ]
  },
  {
   "cell_type": "code",
   "execution_count": null,
   "metadata": {
    "collapsed": true
   },
   "outputs": [],
   "source": []
  }
 ],
 "metadata": {
  "kernelspec": {
   "display_name": "Python 3",
   "language": "python",
   "name": "python3"
  },
  "language_info": {
   "codemirror_mode": {
    "name": "ipython",
    "version": 3
   },
   "file_extension": ".py",
   "mimetype": "text/x-python",
   "name": "python",
   "nbconvert_exporter": "python",
   "pygments_lexer": "ipython3",
   "version": "3.6.1"
  }
 },
 "nbformat": 4,
 "nbformat_minor": 1
}
