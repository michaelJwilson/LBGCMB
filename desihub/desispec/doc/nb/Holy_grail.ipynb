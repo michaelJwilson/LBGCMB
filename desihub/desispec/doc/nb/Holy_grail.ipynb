{
 "cells": [
  {
   "cell_type": "markdown",
   "metadata": {},
   "source": [
    "# Holy Grail"
   ]
  },
  {
   "cell_type": "code",
   "execution_count": null,
   "metadata": {
    "collapsed": true
   },
   "outputs": [],
   "source": [
    "%matplotlib inline"
   ]
  },
  {
   "cell_type": "code",
   "execution_count": 112,
   "metadata": {
    "collapsed": true
   },
   "outputs": [],
   "source": [
    "# imports\n",
    "from desispec import bootcalib as desiboot\n",
    "from astropy.io import fits\n",
    "from astropy.stats import sigma_clip\n",
    "\n",
    "import numpy as np\n",
    "from astropy.modeling import models, fitting\n",
    "from xastropy.xutils import afits as xafits"
   ]
  },
  {
   "cell_type": "markdown",
   "metadata": {},
   "source": [
    "## Find peaks"
   ]
  },
  {
   "cell_type": "code",
   "execution_count": 2,
   "metadata": {
    "collapsed": true
   },
   "outputs": [],
   "source": [
    "# Read flat\n",
    "flat = fits.open('/Users/xavier/DESI/Wavelengths/pix-b0-00000001.fits')[0].data"
   ]
  },
  {
   "cell_type": "code",
   "execution_count": 3,
   "metadata": {
    "collapsed": false
   },
   "outputs": [
    {
     "name": "stdout",
     "output_type": "stream",
     "text": [
      "Found 500 fibers\n",
      "Found 20 bundles\n"
     ]
    }
   ],
   "source": [
    "reload(desiboot)\n",
    "xpk, ypos, cut = desiboot.find_fiber_peaks(flat)#,debug=True)"
   ]
  },
  {
   "cell_type": "code",
   "execution_count": 4,
   "metadata": {
    "collapsed": false
   },
   "outputs": [],
   "source": [
    "# Check\n",
    "plt.clf()\n",
    "plt.figure(figsize=(16,7))\n",
    "xplt = np.arange(cut.size)\n",
    "plt.plot(xplt,cut, 'k-')\n",
    "plt.plot(xpk, cut[xpk],'go')\n",
    "plt.xlim(100,500)\n",
    "plt.show()"
   ]
  },
  {
   "cell_type": "markdown",
   "metadata": {},
   "source": [
    "## Trace the flat spectra"
   ]
  },
  {
   "cell_type": "markdown",
   "metadata": {},
   "source": [
    "### Crude estimate (flux weighted centroid)"
   ]
  },
  {
   "cell_type": "code",
   "execution_count": 5,
   "metadata": {
    "collapsed": false
   },
   "outputs": [],
   "source": [
    "reload(desiboot)\n",
    "xset, xerr = desiboot.trace_crude_init(flat,xpk[0:50],ypos)"
   ]
  },
  {
   "cell_type": "markdown",
   "metadata": {},
   "source": [
    "### Polynomial fits (test)"
   ]
  },
  {
   "cell_type": "code",
   "execution_count": 6,
   "metadata": {
    "collapsed": false
   },
   "outputs": [],
   "source": [
    "yval = np.arange(4096)\n",
    "ii=4\n",
    "xval = xset[:,ii]\n",
    "gdval = xerr[:,ii] < 999.\n",
    "dfit0 = xafits.func_fit(yval[gdval],xval[gdval],'legendre',6)"
   ]
  },
  {
   "cell_type": "code",
   "execution_count": 7,
   "metadata": {
    "collapsed": true
   },
   "outputs": [],
   "source": [
    "fitv = xafits.func_val(yval,dfit0)"
   ]
  },
  {
   "cell_type": "code",
   "execution_count": 8,
   "metadata": {
    "collapsed": true
   },
   "outputs": [],
   "source": [
    "# Fit\n",
    "xdb.xplot(yval,fitv, xtwo=yval,ytwo=xset[:,ii],mtwo='+')"
   ]
  },
  {
   "cell_type": "code",
   "execution_count": null,
   "metadata": {
    "collapsed": true
   },
   "outputs": [],
   "source": [
    "# Residuals\n",
    "xdb.xplot(yval[gdval],fitv[gdval]-xval[gdval], scatter=True)"
   ]
  },
  {
   "cell_type": "markdown",
   "metadata": {},
   "source": [
    "### Polynomial fits (True)"
   ]
  },
  {
   "cell_type": "code",
   "execution_count": 9,
   "metadata": {
    "collapsed": false
   },
   "outputs": [],
   "source": [
    "reload(desiboot)\n",
    "xfit, fdicts = desiboot.fit_traces(xset,xerr)#[:,0:5],xerr[:,0:5])"
   ]
  },
  {
   "cell_type": "markdown",
   "metadata": {},
   "source": [
    "### QA"
   ]
  },
  {
   "cell_type": "code",
   "execution_count": 10,
   "metadata": {
    "collapsed": false
   },
   "outputs": [
    {
     "name": "stdout",
     "output_type": "stream",
     "text": [
      "Writing fiber_trace_qa.pdf QA for fiber trace\n"
     ]
    }
   ],
   "source": [
    "reload(desiboot)\n",
    "desiboot.fiber_trace_qa(flat,xfit)"
   ]
  },
  {
   "cell_type": "markdown",
   "metadata": {},
   "source": [
    "## PSF"
   ]
  },
  {
   "cell_type": "markdown",
   "metadata": {},
   "source": [
    "### Sigma for each fiber (initial guess)"
   ]
  },
  {
   "cell_type": "code",
   "execution_count": 52,
   "metadata": {
    "collapsed": false
   },
   "outputs": [],
   "source": [
    "reload(desiboot)\n",
    "gauss = desiboot.fiber_gauss(flat,xfit,xerr)#,verbose=True)#,debug=True)"
   ]
  },
  {
   "cell_type": "markdown",
   "metadata": {},
   "source": [
    "### Fit a 2nd Order Polynomial"
   ]
  },
  {
   "cell_type": "code",
   "execution_count": 25,
   "metadata": {
    "collapsed": false
   },
   "outputs": [],
   "source": [
    "fiber = np.arange(gauss.size)\n",
    "gfdict,mask = xafits.iter_fit(fiber, gauss, 'polynomial', 2)"
   ]
  },
  {
   "cell_type": "code",
   "execution_count": 26,
   "metadata": {
    "collapsed": false
   },
   "outputs": [
    {
     "data": {
      "text/plain": [
       "{'coeff': array([  1.13885772e+00,  -6.22223052e-03,  -7.41988283e-05]),\n",
       " 'func': 'polynomial',\n",
       " 'order': 2,\n",
       " 'xmax': 49,\n",
       " 'xmin': 0}"
      ]
     },
     "execution_count": 26,
     "metadata": {},
     "output_type": "execute_result"
    }
   ],
   "source": [
    "gfdict"
   ]
  },
  {
   "cell_type": "code",
   "execution_count": 27,
   "metadata": {
    "collapsed": true
   },
   "outputs": [],
   "source": [
    "plt.clf()\n",
    "plt.scatter(fiber,gauss)\n",
    "plt.plot(fiber, xafits.func_val(fiber,gfdict),'k-')\n",
    "#plt.xlim(100,500)\n",
    "plt.show()"
   ]
  },
  {
   "cell_type": "markdown",
   "metadata": {},
   "source": [
    "## Extract Arc"
   ]
  },
  {
   "cell_type": "code",
   "execution_count": 48,
   "metadata": {
    "collapsed": true
   },
   "outputs": [],
   "source": [
    "# Load\n",
    "arc = fits.open('/Users/xavier/DESI/Wavelengths/pix-b0-00000000.fits')[0].data"
   ]
  },
  {
   "cell_type": "code",
   "execution_count": 67,
   "metadata": {
    "collapsed": true
   },
   "outputs": [],
   "source": [
    "sv_aspec = []"
   ]
  },
  {
   "cell_type": "markdown",
   "metadata": {},
   "source": [
    "### Mask"
   ]
  },
  {
   "cell_type": "code",
   "execution_count": 340,
   "metadata": {
    "collapsed": true
   },
   "outputs": [],
   "source": [
    "ii=0"
   ]
  },
  {
   "cell_type": "code",
   "execution_count": 341,
   "metadata": {
    "collapsed": false
   },
   "outputs": [],
   "source": [
    "xpix_img = np.outer(np.ones(arc.shape[0]),np.arange(arc.shape[1]))\n",
    "mask = np.zeros_like(arc,dtype=int)\n",
    "iy = np.arange(arc.shape[0],dtype=int)\n",
    "box_radius = 2\n",
    "ixt = np.round(xfit[:,ii]).astype(int)\n",
    "for jj,ibox in enumerate(range(-box_radius,box_radius+1)):\n",
    "    ix = ixt + ibox\n",
    "    mask[iy,ix] = 1"
   ]
  },
  {
   "cell_type": "markdown",
   "metadata": {},
   "source": [
    "### Gausisian PSF"
   ]
  },
  {
   "cell_type": "code",
   "execution_count": 342,
   "metadata": {
    "collapsed": true
   },
   "outputs": [],
   "source": [
    "dx_img = xpix_img - np.outer(xfit[:,ii],np.ones(arc.shape[1]))\n",
    "g_init = models.Gaussian1D(amplitude=1., mean=0., stddev=gauss[ii])\n",
    "psf = mask * g_init(dx_img)\n",
    "#xdb.ximshow(psf)"
   ]
  },
  {
   "cell_type": "markdown",
   "metadata": {},
   "source": [
    "### Extract"
   ]
  },
  {
   "cell_type": "code",
   "execution_count": 343,
   "metadata": {
    "collapsed": false
   },
   "outputs": [],
   "source": [
    "arc_spec = np.sum(psf*arc,axis=1) / np.sum(psf,axis=1)"
   ]
  },
  {
   "cell_type": "code",
   "execution_count": 84,
   "metadata": {
    "collapsed": true
   },
   "outputs": [],
   "source": [
    "sv_aspec.append(arc_spec)"
   ]
  },
  {
   "cell_type": "code",
   "execution_count": 85,
   "metadata": {
    "collapsed": true
   },
   "outputs": [],
   "source": [
    "#xdb.xplot(np.arange(arc_spec.size), sv_aspec[0], sv_aspec[1], sv_aspec[2])"
   ]
  },
  {
   "cell_type": "markdown",
   "metadata": {},
   "source": [
    "## Wavelength info"
   ]
  },
  {
   "cell_type": "code",
   "execution_count": 29,
   "metadata": {
    "collapsed": true
   },
   "outputs": [],
   "source": [
    "# Dispersion\n",
    "import desimodel.io"
   ]
  },
  {
   "cell_type": "code",
   "execution_count": 87,
   "metadata": {
    "collapsed": true
   },
   "outputs": [],
   "source": [
    "desi_psf = desimodel.io.load_psf('b')"
   ]
  },
  {
   "cell_type": "code",
   "execution_count": 88,
   "metadata": {
    "collapsed": false
   },
   "outputs": [
    {
     "data": {
      "text/plain": [
       "0.623491140761951"
      ]
     },
     "execution_count": 88,
     "metadata": {},
     "output_type": "execute_result"
    }
   ],
   "source": [
    "desi_psf.wdisp(0,4500.) # fiber, wavelength"
   ]
  },
  {
   "cell_type": "code",
   "execution_count": 619,
   "metadata": {
    "collapsed": false
   },
   "outputs": [],
   "source": [
    "wave0 = desi_psf.wavelength(0,np.arange(desi_psf.npix_y))"
   ]
  },
  {
   "cell_type": "code",
   "execution_count": 135,
   "metadata": {
    "collapsed": false
   },
   "outputs": [
    {
     "data": {
      "text/plain": [
       "5948.6835574399602"
      ]
     },
     "execution_count": 135,
     "metadata": {},
     "output_type": "execute_result"
    }
   ],
   "source": [
    "np.max(wave0)"
   ]
  },
  {
   "cell_type": "code",
   "execution_count": 132,
   "metadata": {
    "collapsed": false
   },
   "outputs": [
    {
     "data": {
      "text/plain": [
       "0.63191076246357203"
      ]
     },
     "execution_count": 132,
     "metadata": {},
     "output_type": "execute_result"
    }
   ],
   "source": [
    "med_bdisp = np.median(desi_psf.wdisp(0,wave0))\n",
    "med_bdisp"
   ]
  },
  {
   "cell_type": "code",
   "execution_count": 626,
   "metadata": {
    "collapsed": false
   },
   "outputs": [
    {
     "data": {
      "text/plain": [
       "0.5920365191327619"
      ]
     },
     "execution_count": 626,
     "metadata": {},
     "output_type": "execute_result"
    }
   ],
   "source": [
    "np.median(np.abs(wave0-np.roll(wave0,1)))"
   ]
  },
  {
   "cell_type": "code",
   "execution_count": 623,
   "metadata": {
    "collapsed": true
   },
   "outputs": [],
   "source": [
    "xdb.xplot(wave0,desi_psf.wdisp(0,wave0))"
   ]
  },
  {
   "cell_type": "code",
   "execution_count": 231,
   "metadata": {
    "collapsed": false
   },
   "outputs": [
    {
     "data": {
      "text/plain": [
       "(4096, 4096)"
      ]
     },
     "execution_count": 231,
     "metadata": {},
     "output_type": "execute_result"
    }
   ],
   "source": [
    "desi_psf.npix_x, desi_psf.npix_y"
   ]
  },
  {
   "cell_type": "code",
   "execution_count": 624,
   "metadata": {
    "collapsed": false
   },
   "outputs": [
    {
     "data": {
      "text/plain": [
       "{'coeff': array([ -5.05608278e+03,   6.38522295e-01,   1.09530252e-05]),\n",
       " 'func': 'polynomial',\n",
       " 'order': 2,\n",
       " 'xmax': 1.0,\n",
       " 'xmin': 0.0}"
      ]
     },
     "execution_count": 624,
     "metadata": {},
     "output_type": "execute_result"
    }
   ],
   "source": [
    "poly_fit = xafits.func_fit(wave0,np.arange(desi_psf.npix_y), 'polynomial',2,xmin=0.,xmax=1.)\n",
    "poly_fit"
   ]
  },
  {
   "cell_type": "code",
   "execution_count": 625,
   "metadata": {
    "collapsed": false
   },
   "outputs": [],
   "source": [
    "xdb.xplot(wave0, np.arange(desi_psf.npix_y),xafits.func_val(wave0,poly_fit))"
   ]
  },
  {
   "cell_type": "markdown",
   "metadata": {},
   "source": [
    "## Find Lines"
   ]
  },
  {
   "cell_type": "code",
   "execution_count": 348,
   "metadata": {
    "collapsed": false
   },
   "outputs": [
    {
     "name": "stdout",
     "output_type": "stream",
     "text": [
      "thresh = 15.796\n",
      "Pixels exceeding = 94\n"
     ]
    }
   ],
   "source": [
    "# Set flux threshold\n",
    "cut = arc_spec\n",
    "\n",
    "cut_mask = sigma_clip(cut,sig=4.)\n",
    "rms = np.std(cut_mask)\n",
    "thresh = 10*rms\n",
    "print(\"thresh = {:g}\".format(thresh))\n",
    "gdp = cut > thresh\n",
    "print(\"Pixels exceeding = {:d}\".format(np.sum(gdp)))"
   ]
  },
  {
   "cell_type": "code",
   "execution_count": 349,
   "metadata": {
    "collapsed": false
   },
   "outputs": [],
   "source": [
    "# Roll to find peaks (simple algorithm)\n",
    "nwidth = 5\n",
    "nstep = nwidth // 2\n",
    "for kk in xrange(-nstep,nstep):\n",
    "    if kk < 0:\n",
    "        test = np.roll(cut,kk) < np.roll(cut,kk+1)\n",
    "    else:\n",
    "        test = np.roll(cut,kk) > np.roll(cut,kk+1)\n",
    "    # Compare\n",
    "    gdp = gdp & test"
   ]
  },
  {
   "cell_type": "code",
   "execution_count": 350,
   "metadata": {
    "collapsed": true
   },
   "outputs": [],
   "source": [
    "xpk = np.where(gdp)[0]"
   ]
  },
  {
   "cell_type": "code",
   "execution_count": 351,
   "metadata": {
    "collapsed": false
   },
   "outputs": [],
   "source": [
    "plt.clf()\n",
    "yspec = np.log10(np.maximum(cut,1))\n",
    "xplt = np.arange(cut.size)\n",
    "plt.plot(xplt,yspec,'b-')\n",
    "plt.scatter(xpk,yspec[xpk],color='green')\n",
    "plt.ylim(0.,np.max(yspec)*1.05)\n",
    "plt.xlim(0,cut.size)\n",
    "plt.show()"
   ]
  },
  {
   "cell_type": "markdown",
   "metadata": {},
   "source": [
    "## Identify Arc Lines"
   ]
  },
  {
   "cell_type": "code",
   "execution_count": 127,
   "metadata": {
    "collapsed": false
   },
   "outputs": [
    {
     "name": "stderr",
     "output_type": "stream",
     "text": [
      "\u001b[1;31m[WARNING] ::\u001b[0m ds9 module not installed\n"
     ]
    }
   ],
   "source": [
    "sys.path.append(os.path.abspath(os.getenv('PYPIT')+\"/src\"))\n",
    "import ararclines as pypit_alines\n",
    "import ararc as pypit_arc"
   ]
  },
  {
   "cell_type": "markdown",
   "metadata": {},
   "source": [
    "### Load line list and parameters"
   ]
  },
  {
   "cell_type": "code",
   "execution_count": 627,
   "metadata": {
    "collapsed": false
   },
   "outputs": [
    {
     "data": {
      "text/plain": [
       "{'Nstrong': 15,\n",
       " 'b1': 0.0004123997043918919,\n",
       " 'b2': 0.0,\n",
       " 'disp': 0.592,\n",
       " 'disp_toler': 0.1,\n",
       " 'func': 'legendre',\n",
       " 'llist': None,\n",
       " 'match_toler': 5.0,\n",
       " 'n_final': 4,\n",
       " 'n_first': 1,\n",
       " 'nsig_rej': 2.0,\n",
       " 'nsig_rej_final': 3.0,\n",
       " 'wvmnx': [3500.0, 6000.0]}"
      ]
     },
     "execution_count": 627,
     "metadata": {},
     "output_type": "execute_result"
    }
   ],
   "source": [
    "arcparam = dict(llist=None, \n",
    "    disp=0.592,           # Ang (unbinned)\n",
    "    b1=0.,               # Pixel fit term (binning independent)\n",
    "    b2=0., #1.09530252e-05/arc.shape[0],               # Pixel fit term\n",
    "    wvmnx=[3500.,6000.],# Pixel fit term\n",
    "    disp_toler=0.1,      # 10% tolerance\n",
    "    match_toler=5.,      # Matcing tolerance (pixels)\n",
    "    func='legendre',     # Function for fitting\n",
    "    n_first=1,           # Order of polynomial for first fit\n",
    "    n_final=4,           # Order of polynomial for final fit\n",
    "    nsig_rej=2.,         # Number of sigma for rejection\n",
    "    nsig_rej_final=3.0,  # Number of sigma for rejection (final fit)\n",
    "    Nstrong=15)  \n",
    "arcparam['b1']= 1./arcparam['disp']/arc.shape[0] \n",
    "aparm = arcparam\n",
    "aparm"
   ]
  },
  {
   "cell_type": "code",
   "execution_count": 796,
   "metadata": {
    "collapsed": false
   },
   "outputs": [
    {
     "name": "stderr",
     "output_type": "stream",
     "text": [
      "\u001b[1;32m[INFO]    ::\u001b[0m Rejecting select CdI lines\n",
      "\u001b[1;32m[INFO]    ::\u001b[0m Rejecting select ArI lines\n",
      "\u001b[1;32m[INFO]    ::\u001b[0m Rejecting select HgI lines\n",
      "\u001b[1;32m[INFO]    ::\u001b[0m Rejecting select NeI lines\n",
      "\u001b[1;32m[INFO]    ::\u001b[0m Cutting down line list by wvmnx: 3500,6000\n"
     ]
    }
   ],
   "source": [
    "reload(pypit_alines)\n",
    "#llist = pypit_alines.load_arcline_list(None,None,['CdI','ArI','NeI','HgI'],wvmnx=aparm['wvmnx'])\n",
    "llist = pypit_alines.load_arcline_list(None,None,['CdI','ArI','HgI','NeI'],wvmnx=aparm['wvmnx'])"
   ]
  },
  {
   "cell_type": "code",
   "execution_count": 629,
   "metadata": {
    "collapsed": false
   },
   "outputs": [],
   "source": [
    "arcparam['llist'] = llist"
   ]
  },
  {
   "cell_type": "code",
   "execution_count": 797,
   "metadata": {
    "collapsed": false
   },
   "outputs": [
    {
     "data": {
      "text/html": [
       "&lt;MaskedColumn name=&apos;wave&apos; dtype=&apos;float64&apos; length=7&gt;\n",
       "<table>\n",
       "<tr><td>5852.4878</td></tr>\n",
       "<tr><td>5868.4165</td></tr>\n",
       "<tr><td>5881.895</td></tr>\n",
       "<tr><td>5913.633</td></tr>\n",
       "<tr><td>5944.834</td></tr>\n",
       "<tr><td>5961.6228</td></tr>\n",
       "<tr><td>5975.5343</td></tr>\n",
       "</table>"
      ],
      "text/plain": [
       "<MaskedColumn name='wave' dtype='float64' length=7>\n",
       "5852.4878\n",
       "5868.4165\n",
       " 5881.895\n",
       " 5913.633\n",
       " 5944.834\n",
       "5961.6228\n",
       "5975.5343"
      ]
     },
     "execution_count": 797,
     "metadata": {},
     "output_type": "execute_result"
    }
   ],
   "source": [
    "llist['wave'][llist['Ion']=='NeI']"
   ]
  },
  {
   "cell_type": "markdown",
   "metadata": {},
   "source": [
    "### Auto-ID"
   ]
  },
  {
   "cell_type": "code",
   "execution_count": 798,
   "metadata": {
    "collapsed": true
   },
   "outputs": [],
   "source": [
    "tampl = arc_spec[xpk]\n",
    "tcent = xpk\n",
    "# Need to improve centroid to sub-pixel (flux-weight)"
   ]
  },
  {
   "cell_type": "code",
   "execution_count": 799,
   "metadata": {
    "collapsed": true
   },
   "outputs": [],
   "source": [
    "# Generate dpix pairs\n",
    "nlist = len(llist)\n",
    "dpix_list = np.zeros((nlist,nlist))\n",
    "for kk,row in enumerate(llist):\n",
    "    dpix_list[kk,:] = arc.shape[0]*(aparm['b1']*(np.array(row['wave'] - llist['wave'])) + aparm['b2']*np.array(row['wave']**2 - llist['wave']**2) )"
   ]
  },
  {
   "cell_type": "code",
   "execution_count": 800,
   "metadata": {
    "collapsed": false
   },
   "outputs": [
    {
     "data": {
      "text/plain": [
       "array([ 2492.08445946,  1864.68918919,  1597.16706081,  1316.13158784,\n",
       "        1136.5410473 ,   715.32043919,   688.63581081,   482.95506757,\n",
       "           0.        ,  -116.28175676,  2425.10760135,  2417.19543919,\n",
       "        2402.93530405,  1755.50118243,  1702.67685811,  1228.86266892,\n",
       "        -633.32483108, -1155.04780405, -1190.62212838, -1295.04408784,\n",
       "       -1321.95067568, -1344.71841216, -1398.32989865, -1451.03429054,\n",
       "       -1479.39375   , -1502.89290541])"
      ]
     },
     "execution_count": 800,
     "metadata": {},
     "output_type": "execute_result"
    }
   ],
   "source": [
    "dpix_list[8,:]"
   ]
  },
  {
   "cell_type": "code",
   "execution_count": 801,
   "metadata": {
    "collapsed": false
   },
   "outputs": [
    {
     "data": {
      "text/plain": [
       "array([  736.58327703,   109.18800676,  -158.33412162,  -439.36959459,\n",
       "        -618.96013514, -1040.18074324, -1066.86537162, -1272.54611486,\n",
       "       -1755.50118243, -1871.78293919,   669.60641892,   661.69425676,\n",
       "         647.43412162,     0.        ,   -52.82432432,  -526.63851351,\n",
       "       -2388.82601351, -2910.54898649, -2946.12331081, -3050.54527027,\n",
       "       -3077.45185811, -3100.21959459, -3153.83108108, -3206.53547297,\n",
       "       -3234.89493243, -3258.39408784])"
      ]
     },
     "execution_count": 801,
     "metadata": {},
     "output_type": "execute_result"
    }
   ],
   "source": [
    "dpix_list[13,:]"
   ]
  },
  {
   "cell_type": "code",
   "execution_count": 802,
   "metadata": {
    "collapsed": false
   },
   "outputs": [],
   "source": [
    "# Pixel pairs for the strongest N lines\n",
    "srt = np.argsort(tampl)\n",
    "idx_str = srt[-aparm['Nstrong']:]\n",
    "idx_str.sort()\n",
    "dpix_obs = np.zeros((aparm['Nstrong'],aparm['Nstrong']))\n",
    "for kk,idx in enumerate(idx_str):\n",
    "    dpix_obs[kk,:] = np.array(tcent[idx] - tcent[idx_str]) # pixels"
   ]
  },
  {
   "cell_type": "code",
   "execution_count": 803,
   "metadata": {
    "collapsed": false
   },
   "outputs": [
    {
     "data": {
      "text/plain": [
       "array([ 1960.,  1896.,  1888.,  1875.,  1252.,  1201.,   739.,   205.,\n",
       "           0.,  -487., -1139., -1726., -1838., -1892., -2006.])"
      ]
     },
     "execution_count": 803,
     "metadata": {},
     "output_type": "execute_result"
    }
   ],
   "source": [
    "dpix_obs[8,:]"
   ]
  },
  {
   "cell_type": "code",
   "execution_count": 804,
   "metadata": {
    "collapsed": false
   },
   "outputs": [
    {
     "name": "stdout",
     "output_type": "stream",
     "text": [
      "(0, 16.52391409266404)\n",
      "(1, 11.048757239382228)\n",
      "(2, 13.034109555984477)\n",
      "(3, 15.440069980694981)\n",
      "(4, 10.702413127413264)\n",
      "(5, 10.906732625482672)\n",
      "(6, 13.050434362934286)\n",
      "(7, 11.851085907335971)\n",
      "(8, 16.685931467181231)\n",
      "(9, 14.277292471042674)\n",
      "(10, 10.868737934362969)\n",
      "(11, 17.304005791505762)\n",
      "(12, 12.073600386100535)\n",
      "(13, 12.018098455598503)\n",
      "(14, 10.702413127413175)\n"
     ]
    }
   ],
   "source": [
    "# Match up (ugly loops)\n",
    "ids = np.zeros(aparm['Nstrong'])\n",
    "ids2 = np.zeros(aparm['Nstrong'])\n",
    "ions = np.array(['12345']*aparm['Nstrong'])\n",
    "for kk in range(aparm['Nstrong']):\n",
    "    med_off = np.zeros(nlist)\n",
    "    mean_off = np.zeros(nlist)\n",
    "    for ss in range(nlist):\n",
    "        dpix = dpix_list[ss]\n",
    "        min_off = []\n",
    "        for jj in range(aparm['Nstrong']):\n",
    "            min_off.append(np.min(np.abs(dpix_obs[kk,jj]-dpix)))\n",
    "        min_off.sort()\n",
    "        mean_off[ss] = np.mean(min_off[:-1])\n",
    "        med_off[ss] = np.median(min_off)\n",
    "    #xdb.set_trace()\n",
    "#        if (kk == 1) & ((ss == 13) or (ss==8)):\n",
    "#            xdb.set_trace()\n",
    "    # Set by minimum\n",
    "    idm = np.argmin(med_off)\n",
    "    idm2 = np.argmin(mean_off)\n",
    "    print(kk,mean_off[idm2])\n",
    "    ids2[kk] = llist['wave'][idm]\n",
    "    ids[kk] = llist['wave'][idm2]\n",
    "    ions[kk] = llist['Ion'][idm]"
   ]
  },
  {
   "cell_type": "code",
   "execution_count": 805,
   "metadata": {
    "collapsed": false
   },
   "outputs": [
    {
     "name": "stdout",
     "output_type": "stream",
     "text": [
      "3610.5077 3610.5077\n",
      "3663.284  3663.284 \n",
      "3663.284  3650.158 \n",
      "3663.284  3654.842 \n",
      "4046.565  4046.565 \n",
      "4077.837  4077.837 \n",
      "4358.335  4358.335 \n",
      "4662.352  4662.352 \n",
      "4799.9123 4799.9123\n",
      "5085.8217 5085.8217\n",
      "5460.75   5460.75  \n",
      "5790.67   5790.67  \n",
      "5881.895  5881.895 \n",
      "5913.633  5913.633 \n",
      "5975.5343 5975.5343\n"
     ]
    }
   ],
   "source": [
    "xdb.xpcol(ids,ids2)"
   ]
  },
  {
   "cell_type": "code",
   "execution_count": 806,
   "metadata": {
    "collapsed": false
   },
   "outputs": [
    {
     "name": "stdout",
     "output_type": "stream",
     "text": [
      "Found 15 lines within the disperesion threshold\n"
     ]
    },
    {
     "name": "stderr",
     "output_type": "stream",
     "text": [
      "/Users/xavier/anaconda/lib/python2.7/site-packages/ipykernel/__main__.py:5: RuntimeWarning: invalid value encountered in divide\n"
     ]
    }
   ],
   "source": [
    "# Calculate disp of the strong lines\n",
    "disp_str = np.zeros(aparm['Nstrong'])\n",
    "for kk in range(aparm['Nstrong']):\n",
    "    disp_str[kk] = np.median( (ids[kk]-ids)/\n",
    "        (tcent[idx_str[kk]]-tcent[idx_str]) )\n",
    "# Consider calculating the RMS with clipping\n",
    "gd_str = np.where( np.abs(disp_str-aparm['disp'])/aparm['disp'] < aparm['disp_toler'])[0]\n",
    "print('Found {:d} lines within the disperesion threshold'.format(len(gd_str)))\n",
    "if len(gd_str) < 5:\n",
    "    raise ValueError('Insufficient lines to auto-fit.')"
   ]
  },
  {
   "cell_type": "code",
   "execution_count": 807,
   "metadata": {
    "collapsed": false
   },
   "outputs": [
    {
     "name": "stdout",
     "output_type": "stream",
     "text": [
      "0  3610.5077 0.606839081633\n",
      "1  3663.284  0.594164702732\n",
      "2  3663.284  0.59544041868 \n",
      "3  3663.284  0.598244311377\n",
      "4  4046.565  0.597617423807\n",
      "5  4077.837  0.597147334123\n",
      "6  4358.335  0.597533558863\n",
      "7  4662.352  0.594046130952\n",
      "8  4799.9123 0.5994875     \n",
      "9  5085.8217 0.596952454889\n",
      "10 5460.75   0.593753517878\n",
      "11 5790.67   0.587351187189\n",
      "12 5881.895  0.594164702732\n",
      "13 5913.633  0.59407312566 \n",
      "14 5975.5343 0.592580804716\n"
     ]
    }
   ],
   "source": [
    "xdb.xpcol(np.arange(len(ids)),ids,disp_str)"
   ]
  },
  {
   "cell_type": "code",
   "execution_count": 808,
   "metadata": {
    "collapsed": false
   },
   "outputs": [],
   "source": [
    "#Plot\n",
    "plt.clf()\n",
    "xplt = np.arange(arc_spec.size)\n",
    "plt.plot(xplt,arc_spec)\n",
    "# Label\n",
    "for gds in gd_str:\n",
    "    plt.text(tcent[idx_str[gds]], tampl[idx_str[gds]], '{:s} {:g}'.format(ions[gds],ids[gds]), rotation=90., va='bottom')\n",
    "plt.show()"
   ]
  },
  {
   "cell_type": "code",
   "execution_count": 415,
   "metadata": {
    "collapsed": false
   },
   "outputs": [],
   "source": [
    "# Fit\n",
    "#Plot\n",
    "plt.clf()\n",
    "plt.scatter(ids[gd_str],tcent[idx_str[gd_str]],color='blue')\n",
    "plt.plot(wave0,np.arange(wave0.size),'g-')                \n",
    "plt.show()"
   ]
  },
  {
   "cell_type": "code",
   "execution_count": 642,
   "metadata": {
    "collapsed": false
   },
   "outputs": [],
   "source": [
    "# Residual\n",
    "resid = tcent[idx_str[gd_str]] - xafits.func_val(ids[gd_str], poly_fit)\n",
    "plt.clf()\n",
    "plt.scatter(ids[gd_str],resid,color='blue')\n",
    "plt.show()"
   ]
  },
  {
   "cell_type": "code",
   "execution_count": 412,
   "metadata": {
    "collapsed": false
   },
   "outputs": [
    {
     "data": {
      "text/plain": [
       "array([ 3610.5077,  3650.158 ,  3654.842 ,  3663.284 ,  4046.565 ,\n",
       "        4077.837 ,  4358.335 ,  4662.352 ,  4799.9123,  5085.8217,\n",
       "        5460.75  ,  5790.67  ])"
      ]
     },
     "execution_count": 412,
     "metadata": {},
     "output_type": "execute_result"
    }
   ],
   "source": [
    "ids[gd_str]"
   ]
  },
  {
   "cell_type": "markdown",
   "metadata": {},
   "source": [
    "### Triplets (this was a bit off track)"
   ]
  },
  {
   "cell_type": "code",
   "execution_count": 765,
   "metadata": {
    "collapsed": false
   },
   "outputs": [],
   "source": [
    "llist.sort('wave')\n",
    "nline = len(llist)"
   ]
  },
  {
   "cell_type": "code",
   "execution_count": 583,
   "metadata": {
    "collapsed": false
   },
   "outputs": [
    {
     "data": {
      "text/html": [
       "&lt;MaskedColumn name=&apos;wave&apos; dtype=&apos;float64&apos; length=51&gt;\n",
       "<table>\n",
       "<tr><td>3610.5077</td></tr>\n",
       "<tr><td>3650.158</td></tr>\n",
       "<tr><td>3654.842</td></tr>\n",
       "<tr><td>3663.284</td></tr>\n",
       "<tr><td>3981.9257</td></tr>\n",
       "<tr><td>4046.565</td></tr>\n",
       "<tr><td>4077.837</td></tr>\n",
       "<tr><td>4140.2988</td></tr>\n",
       "<tr><td>4306.6718</td></tr>\n",
       "<tr><td>4358.335</td></tr>\n",
       "<tr><td>4412.9894</td></tr>\n",
       "<tr><td>4662.352</td></tr>\n",
       "<tr><td>...</td></tr>\n",
       "<tr><td>5906.4294</td></tr>\n",
       "<tr><td>5913.633</td></tr>\n",
       "<tr><td>5918.9068</td></tr>\n",
       "<tr><td>5934.4522</td></tr>\n",
       "<tr><td>5939.3154</td></tr>\n",
       "<tr><td>5944.834</td></tr>\n",
       "<tr><td>5961.6228</td></tr>\n",
       "<tr><td>5965.471</td></tr>\n",
       "<tr><td>5974.6273</td></tr>\n",
       "<tr><td>5975.5343</td></tr>\n",
       "<tr><td>5987.9074</td></tr>\n",
       "<tr><td>5991.6477</td></tr>\n",
       "</table>"
      ],
      "text/plain": [
       "<MaskedColumn name='wave' dtype='float64' length=51>\n",
       "3610.5077\n",
       " 3650.158\n",
       " 3654.842\n",
       " 3663.284\n",
       "3981.9257\n",
       " 4046.565\n",
       " 4077.837\n",
       "4140.2988\n",
       "4306.6718\n",
       " 4358.335\n",
       "4412.9894\n",
       " 4662.352\n",
       "      ...\n",
       "5906.4294\n",
       " 5913.633\n",
       "5918.9068\n",
       "5934.4522\n",
       "5939.3154\n",
       " 5944.834\n",
       "5961.6228\n",
       " 5965.471\n",
       "5974.6273\n",
       "5975.5343\n",
       "5987.9074\n",
       "5991.6477"
      ]
     },
     "execution_count": 583,
     "metadata": {},
     "output_type": "execute_result"
    }
   ],
   "source": [
    "llist['wave']"
   ]
  },
  {
   "cell_type": "code",
   "execution_count": null,
   "metadata": {
    "collapsed": false
   },
   "outputs": [],
   "source": [
    "# Generate\n",
    "#3610, 3650., 3654\n",
    "line_triplets = []\n",
    "for kk in range(1,nline-1):\n",
    "    #print(kk)\n",
    "    # Setup array\n",
    "    triplets = np.zeros( (3,kk,nline-kk-1))\n",
    "    wv2 = llist['wave'][kk]\n",
    "    # Loop on LHS\n",
    "    for jj in range(kk):\n",
    "        wv1 = llist['wave'][jj]\n",
    "        wvmm = llist['wave'][kk+1:]\n",
    "#        if kk == 2:\n",
    "#            xdb.set_trace()\n",
    "        triplets[0,jj,:] = (wv2-wv1)/(wvmm-wv1)\n",
    "        triplets[1,jj,:] = (wv2-wv1)/(wvmm-wv2)\n",
    "        triplets[2,jj,:] = (wvmm-wv2)/(wvmm-wv1)\n",
    "#        if kk == 34: \n",
    "#            if np.sum(np.abs(triplets[1,jj,:]-8)<1e-5)>0:\n",
    "#                xdb.set_trace()\n",
    "        #triplets[3,jj,:] = wvmm-wv1 # dlamb\n",
    "    # Enforce 0-1 range\n",
    "    #if kk == 1:\n",
    "    #    xdb.set_trace()\n",
    "    #inverse = triplets > 1.\n",
    "    #triplets[inverse] = 1./triplets[inverse]\n",
    "    # Reshape\n",
    "#    if kk == 34:\n",
    "#        xdb.set_trace()\n",
    "    triplets = np.reshape(triplets,(3,triplets.shape[1]*triplets.shape[2]))\n",
    "    # Sort\n",
    "    #triplets = np.sort(triplets, axis=0)\n",
    "    # Append\n",
    "    #xdb.set_trace()\n",
    "    line_triplets.append(triplets)       "
   ]
  },
  {
   "cell_type": "markdown",
   "metadata": {},
   "source": [
    "#### Test"
   ]
  },
  {
   "cell_type": "code",
   "execution_count": 484,
   "metadata": {
    "collapsed": false
   },
   "outputs": [
    {
     "data": {
      "text/plain": [
       "array([122, 186, 194])"
      ]
     },
     "execution_count": 484,
     "metadata": {},
     "output_type": "execute_result"
    }
   ],
   "source": [
    "tcent[0:3]"
   ]
  },
  {
   "cell_type": "code",
   "execution_count": 586,
   "metadata": {
    "collapsed": false
   },
   "outputs": [
    {
     "name": "stdout",
     "output_type": "stream",
     "text": [
      "[122 186 194]\n"
     ]
    },
    {
     "data": {
      "text/plain": [
       "array([ 0.88888889,  8.        ,  0.11111111])"
      ]
     },
     "execution_count": 586,
     "metadata": {},
     "output_type": "execute_result"
    }
   ],
   "source": [
    "ii = 1\n",
    "triplet_obs = [ float(tcent[ii]-tcent[ii-1])/float(tcent[ii+1]-tcent[ii-1]),\n",
    "               float(tcent[ii]-tcent[ii-1])/float(tcent[ii+1]-tcent[ii]),\n",
    "               float(tcent[ii+1]-tcent[ii])/float(tcent[ii+1]-tcent[ii-1])]\n",
    "print(tcent[ii-1:ii+2])\n",
    "triplet_o = np.array(triplet_obs)\n",
    "# inverse\n",
    "#inverse = triplet_o > 1.\n",
    "#triplet_o[inverse] = 1./triplet_o[inverse]\n",
    "#\n",
    "#triplet_obs = np.sort(triplet_o)\n",
    "triplet_o"
   ]
  },
  {
   "cell_type": "code",
   "execution_count": null,
   "metadata": {
    "collapsed": false
   },
   "outputs": [],
   "source": [
    "# Loop on lines\n",
    "all_diff = []\n",
    "for kk,ltrip in enumerate(line_triplets):\n",
    "    diff = np.abs(ltrip.T - triplet_o)\n",
    "    min_diff = np.min(np.sum(diff,axis=1))\n",
    "    imin = np.argmin(np.sum(diff,axis=1))\n",
    "    if min_diff < 0.03:\n",
    "        pass\n",
    "        #dlamb = 1./(ltrip[3,imin]*(tcent[ii+1]-tcent[ii-1]))\n",
    "        #print('wave={:g}, min={:g}, dlamb={:g}'.format(llist['wave'][kk+1],min_diff))#,dlamb))\n",
    "    #all_diff.append(ltrip)\n",
    "    #xdb.set_trace()\n",
    "    #print(kk,min_diff)\n",
    "    #if kk == 33:\n",
    "    #    xdb.set_trace()"
   ]
  },
  {
   "cell_type": "code",
   "execution_count": 570,
   "metadata": {
    "collapsed": false
   },
   "outputs": [],
   "source": [
    "ltrip = line_triplets[0]"
   ]
  },
  {
   "cell_type": "code",
   "execution_count": 558,
   "metadata": {
    "collapsed": false
   },
   "outputs": [],
   "source": [
    "diff = np.abs(ltrip[:,0:3] - triplet_o)"
   ]
  },
  {
   "cell_type": "code",
   "execution_count": 559,
   "metadata": {
    "collapsed": false
   },
   "outputs": [
    {
     "data": {
      "text/plain": [
       "1.1126107151752724"
      ]
     },
     "execution_count": 559,
     "metadata": {},
     "output_type": "execute_result"
    }
   ],
   "source": [
    "np.min(np.sum(diff,axis=1))"
   ]
  },
  {
   "cell_type": "code",
   "execution_count": 552,
   "metadata": {
    "collapsed": true
   },
   "outputs": [],
   "source": [
    "xdb.xplot(arc_spec)"
   ]
  },
  {
   "cell_type": "markdown",
   "metadata": {},
   "source": [
    "## A New Solution"
   ]
  },
  {
   "cell_type": "markdown",
   "metadata": {},
   "source": [
    "### Find all $\\Delta \\lambda$ pairs in the line list"
   ]
  },
  {
   "cell_type": "code",
   "execution_count": 809,
   "metadata": {
    "collapsed": false
   },
   "outputs": [
    {
     "data": {
      "text/plain": [
       "26"
      ]
     },
     "execution_count": 809,
     "metadata": {},
     "output_type": "execute_result"
    }
   ],
   "source": [
    "llist.sort('wave')\n",
    "nline = len(llist)\n",
    "nline"
   ]
  },
  {
   "cell_type": "code",
   "execution_count": 810,
   "metadata": {
    "collapsed": false
   },
   "outputs": [
    {
     "data": {
      "text/plain": [
       "325"
      ]
     },
     "execution_count": 810,
     "metadata": {},
     "output_type": "execute_result"
    }
   ],
   "source": [
    "npair = np.sum(np.arange(nline))\n",
    "npair"
   ]
  },
  {
   "cell_type": "code",
   "execution_count": 811,
   "metadata": {
    "collapsed": false
   },
   "outputs": [],
   "source": [
    "Dlamb = np.zeros((3,npair)) # index, index, dlamb\n",
    "count = 0\n",
    "for kk in range(nline-1):\n",
    "    jidx = np.arange(kk+1,nline)\n",
    "    cidx = np.arange(jidx.size)\n",
    "    dl = llist['wave'][jidx] - llist['wave'][kk]\n",
    "    # Fill\n",
    "    Dlamb[0,count+cidx] = kk\n",
    "    Dlamb[1,count+cidx] = jidx\n",
    "    Dlamb[2,count+cidx] = dl\n",
    "    count += cidx.size"
   ]
  },
  {
   "cell_type": "markdown",
   "metadata": {},
   "source": [
    "### Using a $\\delta\\lambda$ guess, find all matches within tolerance"
   ]
  },
  {
   "cell_type": "code",
   "execution_count": 812,
   "metadata": {
    "collapsed": true
   },
   "outputs": [],
   "source": [
    "toler = 0.2"
   ]
  },
  {
   "cell_type": "code",
   "execution_count": 813,
   "metadata": {
    "collapsed": false
   },
   "outputs": [
    {
     "data": {
      "text/plain": [
       "0.58944396087634243"
      ]
     },
     "execution_count": 813,
     "metadata": {},
     "output_type": "execute_result"
    }
   ],
   "source": [
    "dlamb = (wave0[-1]-wave0[0])/wave0.size\n",
    "dlamb"
   ]
  },
  {
   "cell_type": "code",
   "execution_count": 814,
   "metadata": {
    "collapsed": false
   },
   "outputs": [
    {
     "data": {
      "text/plain": [
       "2337.734748835574"
      ]
     },
     "execution_count": 814,
     "metadata": {},
     "output_type": "execute_result"
    }
   ],
   "source": [
    "#\n",
    "Dobs = (tcent[-1]-tcent[0])*dlamb\n",
    "Dobs"
   ]
  },
  {
   "cell_type": "code",
   "execution_count": 815,
   "metadata": {
    "collapsed": false
   },
   "outputs": [
    {
     "data": {
      "text/plain": [
       "array([ 0.01613717,  0.01815431,  0.02143217,  0.1785174 ,  0.1913767 ,\n",
       "        0.30005043,  0.30332829,  0.30786687,  0.44251135,  0.49420071,\n",
       "        0.54387292,  0.61699445,  0.75466465,  0.78139183,  0.9200706 ,\n",
       "        0.9293999 ,  0.95763994,  0.97125567])"
      ]
     },
     "execution_count": 815,
     "metadata": {},
     "output_type": "execute_result"
    }
   ],
   "source": [
    "#Normalized pattern of tcent\n",
    "xtcent = (tcent[1:-1]-tcent[0])/float(tcent[-1]-tcent[0])\n",
    "xtcent"
   ]
  },
  {
   "cell_type": "code",
   "execution_count": 816,
   "metadata": {
    "collapsed": false
   },
   "outputs": [
    {
     "data": {
      "text/plain": [
       "48"
      ]
     },
     "execution_count": 816,
     "metadata": {},
     "output_type": "execute_result"
    }
   ],
   "source": [
    "# All matches within tolerance\n",
    "gdp = np.where(np.abs(Dobs-Dlamb[2,:])/Dobs < toler)[0]\n",
    "gdp.size"
   ]
  },
  {
   "cell_type": "code",
   "execution_count": 817,
   "metadata": {
    "collapsed": true
   },
   "outputs": [],
   "source": [
    "#\n",
    "mtch_wv = np.zeros( (tcent.size, gdp.size))\n",
    "mtch_idx = np.zeros( (tcent.size, gdp.size),dtype=int)"
   ]
  },
  {
   "cell_type": "code",
   "execution_count": 818,
   "metadata": {
    "collapsed": false
   },
   "outputs": [],
   "source": [
    "# Loop on gdp\n",
    "metric = np.zeros(gdp.size)\n",
    "for qq,igd in enumerate(gdp):\n",
    "    # Endpoints\n",
    "    i0,i1 = Dlamb[0,igd], Dlamb[1,igd]\n",
    "    mtch_wv[0,qq] = llist['wave'][i0]\n",
    "    mtch_wv[-1,qq] = llist['wave'][i1]\n",
    "    mtch_idx[0,qq] = i0\n",
    "    mtch_idx[-1,qq] = i1\n",
    "    # Normalized pattern of lines\n",
    "    xline = (llist['wave'][i0+1:i1]-llist['wave'][i0])/(llist['wave'][i1]-llist['wave'][i0])\n",
    "    # Minimize tcent\n",
    "    for jj,xt in enumerate(xtcent):\n",
    "        diff = np.abs(xt-xline)\n",
    "        imin = np.argmin(diff)\n",
    "        # Increment and save\n",
    "        metric[qq] += diff[imin]\n",
    "        mtch_wv[jj+1,qq] = llist['wave'][i0+imin+1]\n",
    "        mtch_idx[jj+1,qq] = i0+imin+1"
   ]
  },
  {
   "cell_type": "code",
   "execution_count": 819,
   "metadata": {
    "collapsed": true
   },
   "outputs": [],
   "source": [
    "xdb.xhist(metric)"
   ]
  },
  {
   "cell_type": "code",
   "execution_count": 777,
   "metadata": {
    "collapsed": false
   },
   "outputs": [
    {
     "data": {
      "text/plain": [
       "31"
      ]
     },
     "execution_count": 777,
     "metadata": {},
     "output_type": "execute_result"
    }
   ],
   "source": [
    "best_met = np.argmin(metric)\n",
    "best_met"
   ]
  },
  {
   "cell_type": "code",
   "execution_count": 820,
   "metadata": {
    "collapsed": false
   },
   "outputs": [
    {
     "data": {
      "text/plain": [
       "array([ 3663.284 ,  3981.9257,  3981.9257,  3981.9257,  4046.565 ,\n",
       "        4077.837 ,  4306.6718,  4358.335 ,  4358.335 ,  4662.352 ,\n",
       "        4799.9123,  4799.9123,  5085.8217,  5460.75  ,  5460.75  ,\n",
       "        5769.61  ,  5769.61  ,  5790.67  ,  5790.67  ,  5881.895 ])"
      ]
     },
     "execution_count": 820,
     "metadata": {},
     "output_type": "execute_result"
    }
   ],
   "source": [
    "mtch_wv[:,best_met]"
   ]
  },
  {
   "cell_type": "code",
   "execution_count": 821,
   "metadata": {
    "collapsed": false
   },
   "outputs": [
    {
     "data": {
      "text/plain": [
       "array([ 3,  4,  4,  4,  5,  6,  8,  9,  9, 11, 13, 13, 14, 16, 16, 17, 17,\n",
       "       18, 18, 21])"
      ]
     },
     "execution_count": 821,
     "metadata": {},
     "output_type": "execute_result"
    }
   ],
   "source": [
    "mtch_idx[:,best_met]"
   ]
  },
  {
   "cell_type": "code",
   "execution_count": 822,
   "metadata": {
    "collapsed": true
   },
   "outputs": [],
   "source": [
    "srt = np.argsort(metric)"
   ]
  },
  {
   "cell_type": "code",
   "execution_count": 823,
   "metadata": {
    "collapsed": false
   },
   "outputs": [
    {
     "data": {
      "text/plain": [
       "array([ 8,  7, 17, 26, 16])"
      ]
     },
     "execution_count": 823,
     "metadata": {},
     "output_type": "execute_result"
    }
   ],
   "source": [
    "srt[0:5]"
   ]
  },
  {
   "cell_type": "code",
   "execution_count": 824,
   "metadata": {
    "collapsed": false
   },
   "outputs": [
    {
     "data": {
      "text/plain": [
       "array([ 3650.158 ,  3663.284 ,  3663.284 ,  3663.284 ,  4077.837 ,\n",
       "        4077.837 ,  4358.335 ,  4358.335 ,  4358.335 ,  4678.1493,\n",
       "        4799.9123,  4799.9123,  5085.8217,  5460.75  ,  5460.75  ,\n",
       "        5790.67  ,  5790.67  ,  5881.895 ,  5913.633 ,  5975.5343])"
      ]
     },
     "execution_count": 824,
     "metadata": {},
     "output_type": "execute_result"
    }
   ],
   "source": [
    "gdwv = np.median(mtch_wv[:,srt[0:5]],axis=1)\n",
    "gdwv"
   ]
  },
  {
   "cell_type": "code",
   "execution_count": 825,
   "metadata": {
    "collapsed": false
   },
   "outputs": [
    {
     "data": {
      "text/plain": [
       "array([  1.,   3.,   3.,   3.,   6.,   6.,   9.,   9.,   9.,  12.,  13.,\n",
       "        13.,  14.,  16.,  16.,  18.,  18.,  21.,  22.,  25.])"
      ]
     },
     "execution_count": 825,
     "metadata": {},
     "output_type": "execute_result"
    }
   ],
   "source": [
    "gdidx = np.median(mtch_idx[:,srt[0:5]],axis=1)\n",
    "gdidx"
   ]
  },
  {
   "cell_type": "code",
   "execution_count": 846,
   "metadata": {
    "collapsed": true
   },
   "outputs": [],
   "source": [
    "#Plot with labels\n",
    "plt.clf()\n",
    "xplt = np.arange(arc_spec.size)\n",
    "plt.plot(xplt,arc_spec)\n",
    "# Label\n",
    "for ii in range(tcent.size):\n",
    "    plt.text(tcent[ii], tampl[ii], '{:g}'.format(gdwv[ii]), rotation=90., va='bottom')\n",
    "plt.show()"
   ]
  },
  {
   "cell_type": "code",
   "execution_count": 845,
   "metadata": {
    "collapsed": true
   },
   "outputs": [],
   "source": [
    "xdb.xplot(wave0,arc_spec)"
   ]
  },
  {
   "cell_type": "markdown",
   "metadata": {},
   "source": [
    "### Quint method"
   ]
  },
  {
   "cell_type": "code",
   "execution_count": 840,
   "metadata": {
    "collapsed": true
   },
   "outputs": [],
   "source": [
    "iq=14 # Marked line"
   ]
  },
  {
   "cell_type": "code",
   "execution_count": 841,
   "metadata": {
    "collapsed": false
   },
   "outputs": [
    {
     "data": {
      "text/plain": [
       "array([2569, 3115, 3221, 3771, 3808])"
      ]
     },
     "execution_count": 841,
     "metadata": {},
     "output_type": "execute_result"
    }
   ],
   "source": [
    "quint = tcent[iq+np.arange(5)-2]\n",
    "quint"
   ]
  },
  {
   "cell_type": "markdown",
   "metadata": {},
   "source": [
    "#### How far to loop from guess??"
   ]
  },
  {
   "cell_type": "code",
   "execution_count": 842,
   "metadata": {
    "collapsed": false
   },
   "outputs": [
    {
     "name": "stdout",
     "output_type": "stream",
     "text": [
      "wcen = 4799.91\n",
      "wcen = 5085.82\n",
      "wcen = 5154.66\n",
      "wcen = 5460.75\n",
      "wcen = 5769.61\n",
      "wcen = 5790.67\n"
     ]
    }
   ],
   "source": [
    "guesses = np.arange(gdidx[iq-3],gdidx[iq+1]+1)\n",
    "qmetric = np.ones(guesses.size) * 999.\n",
    "#\n",
    "Dlm1 = dlamb*(tcent[iq]-tcent[iq-1])\n",
    "Dlp1 = dlamb*(tcent[iq+1]-tcent[iq])\n",
    "#\n",
    "x1 = (tcent[iq-1]-tcent[iq-2])/float(tcent[iq]-tcent[iq-2])\n",
    "x2 = (tcent[iq]-tcent[iq-1])/float(tcent[iq+1]-tcent[iq-1])\n",
    "x3 = (tcent[iq+1]-tcent[iq])/float(tcent[iq+2]-tcent[iq])\n",
    "\n",
    "for ss,icen in enumerate(guesses):\n",
    "    wcen = llist['wave'][icen]\n",
    "    print('wcen = {:g}'.format(wcen))\n",
    "    # Find possible i-1\n",
    "    Dlm = wcen-llist['wave'][0:icen]\n",
    "    gdm = np.where(np.abs(Dlm-Dlm1)/Dlm1<toler)[0]\n",
    "    # Find possible i+1\n",
    "    Dlp = llist['wave'][icen+1:]-wcen\n",
    "    gdp = np.where(np.abs(Dlp-Dlp1)/Dlp1<toler)[0]\n",
    "    #\n",
    "    nposs = len(gdm)*len(gdp)\n",
    "    if (nposs == 0):\n",
    "        continue\n",
    "    # Ugly loops\n",
    "    sub_metric = np.zeros(nposs)\n",
    "    count=0\n",
    "    for igdm in gdm:\n",
    "        # 012\n",
    "        lx1 = (llist['wave'][igdm]-llist['wave'][0:igdm])/(wcen-llist['wave'][0:igdm])\n",
    "        sub_metric[count+np.arange(gdp.size)] += np.min(np.abs(lx1-x1))\n",
    "        for igdp in gdp:\n",
    "            # 123\n",
    "            sub_metric[count] += np.abs(x2-(wcen-llist['wave'][igdm])/(llist['wave'][icen+1+igdp]-llist['wave'][igdm]))\n",
    "            count += 1\n",
    "    count=0\n",
    "    for igdp in gdp:\n",
    "        # 234\n",
    "        lx3 = (llist['wave'][icen+1+igdp]-wcen)/(llist['wave'][icen+2+igdp:]-wcen)\n",
    "        sub_metric[count*gdm.size+np.arange(gdm.size)] += np.min(np.abs(lx3-x3))\n",
    "        #xdb.set_trace()\n",
    "    qmetric[ss] = np.min(sub_metric)\n"
   ]
  },
  {
   "cell_type": "code",
   "execution_count": 843,
   "metadata": {
    "collapsed": false
   },
   "outputs": [
    {
     "name": "stdout",
     "output_type": "stream",
     "text": [
      "4799.9123 999.0         \n",
      "5085.8217 999.0         \n",
      "5154.6605 0.479352635456\n",
      "5460.75   999.0         \n",
      "5769.61   999.0         \n",
      "5790.67   999.0         \n"
     ]
    }
   ],
   "source": [
    "xdb.xpcol(llist['wave'][guesses.astype(int)], qmetric)"
   ]
  },
  {
   "cell_type": "code",
   "execution_count": 844,
   "metadata": {
    "collapsed": true
   },
   "outputs": [],
   "source": [
    "xdb.xplot(arc_spec)"
   ]
  },
  {
   "cell_type": "markdown",
   "metadata": {},
   "source": [
    "## Fitting approach"
   ]
  },
  {
   "cell_type": "code",
   "execution_count": 961,
   "metadata": {
    "collapsed": true
   },
   "outputs": [],
   "source": [
    "from astropy.modeling import models, fitting\n",
    "import copy"
   ]
  },
  {
   "cell_type": "code",
   "execution_count": 893,
   "metadata": {
    "collapsed": true
   },
   "outputs": [],
   "source": [
    "# For fitting\n",
    "fitter = fitting.LevMarLSQFitter()"
   ]
  },
  {
   "cell_type": "code",
   "execution_count": 891,
   "metadata": {
    "collapsed": false
   },
   "outputs": [
    {
     "data": {
      "text/plain": [
       "<Polynomial1D(2, c0=0.0, c1=0.0, c2=0.0)>"
      ]
     },
     "execution_count": 891,
     "metadata": {},
     "output_type": "execute_result"
    }
   ],
   "source": [
    "# Setup model\n",
    "poly = models.Polynomial1D(2)\n",
    "poly"
   ]
  },
  {
   "cell_type": "code",
   "execution_count": 895,
   "metadata": {
    "collapsed": false
   },
   "outputs": [],
   "source": [
    "# Set bounds\n",
    "poly.c1.bounds = (6.38522295e-01*0.8, 6.38522295e-01*1.2)"
   ]
  },
  {
   "cell_type": "code",
   "execution_count": 870,
   "metadata": {
    "collapsed": false
   },
   "outputs": [
    {
     "data": {
      "text/plain": [
       "array([5, 6, 7, 8, 9])"
      ]
     },
     "execution_count": 870,
     "metadata": {},
     "output_type": "execute_result"
    }
   ],
   "source": []
  },
  {
   "cell_type": "code",
   "execution_count": 872,
   "metadata": {
    "collapsed": false
   },
   "outputs": [],
   "source": [
    "xdb.xplot(wave0,arc_spec)"
   ]
  },
  {
   "cell_type": "code",
   "execution_count": 874,
   "metadata": {
    "collapsed": false
   },
   "outputs": [
    {
     "data": {
      "text/plain": [
       "array([ 3610.51 ,  3650.157,  4046.57 ,  4077.84 ,  4358.34 ,  4678.15 ,\n",
       "        4799.91 ,  5085.82 ,  5085.822,  5460.75 ,  5769.598,  5881.895,\n",
       "        5944.834])"
      ]
     },
     "execution_count": 874,
     "metadata": {},
     "output_type": "execute_result"
    }
   ],
   "source": [
    "HgI = [4046.57, 4077.84, 4358.34, 5460.75, 5769.598]\n",
    "CdI = [3610.51, 3650.157, 4678.15, 4799.91, 5085.82]\n",
    "NeI = [5085.822, 5881.895, 5944.834]\n",
    "gd_lines = np.array(HgI + CdI + NeI)\n",
    "gd_lines.sort()\n",
    "gd_lines"
   ]
  },
  {
   "cell_type": "markdown",
   "metadata": {},
   "source": [
    "### Looping.."
   ]
  },
  {
   "cell_type": "code",
   "execution_count": 878,
   "metadata": {
    "collapsed": false
   },
   "outputs": [
    {
     "data": {
      "text/plain": [
       "(0.58944396087634243, 0.2)"
      ]
     },
     "execution_count": 878,
     "metadata": {},
     "output_type": "execute_result"
    }
   ],
   "source": [
    "dlamb, toler"
   ]
  },
  {
   "cell_type": "code",
   "execution_count": 929,
   "metadata": {
    "collapsed": false
   },
   "outputs": [
    {
     "name": "stdout",
     "output_type": "stream",
     "text": [
      "tc = 830\n",
      "tc = 881\n",
      "tc = 1312\n",
      "No im2 lines found for guess=1312\n",
      "tc = 1325\n",
      "No im2 lines found for guess=1325\n",
      "tc = 1343\n",
      "No im2 lines found for guess=1343\n",
      "tc = 1877\n",
      "No im2 lines found for guess=1877\n",
      "tc = 2082\n",
      "tc = 2279\n",
      "No im2 lines found for guess=2279\n",
      "tc = 2569\n",
      "tc = 3115\n",
      "No ip2 lines found for guess=3115\n",
      "tc = 3221\n"
     ]
    }
   ],
   "source": [
    "rms_dicts = []\n",
    "## Assign a line to focus on\n",
    "#wmark = 4358.34\n",
    "wmark = 4799.91\n",
    "#wmark = 5085.822\n",
    "icen = np.where(np.abs(gd_lines-wmark)<1e-3)[0]\n",
    "icen = icen[0]\n",
    "##\n",
    "guesses = 8 + np.arange(-4,7)\n",
    "for guess in guesses:\n",
    "    # Setup\n",
    "    tc = float(tcent[guess])\n",
    "    print('tc = {:g}'.format(tc))\n",
    "    rms_dict = dict(tc=tc,guess=guess)\n",
    "    ## Match to i-2 line\n",
    "    line_m2 = gd_lines[icen-2]\n",
    "    Dm2 = wmark-line_m2\n",
    "    mtm2 = np.where(np.abs((tc-tcent)*dlamb - Dm2)/Dm2 < toler)[0]\n",
    "    if len(mtm2) == 0:\n",
    "        print('No im2 lines found for guess={:g}'.format(tc))\n",
    "        continue\n",
    "    # Match to i+2 line\n",
    "    line_p2 = gd_lines[icen+2]\n",
    "    Dp2 = line_p2-wmark\n",
    "    mtp2 = np.where(np.abs((tcent-tc)*dlamb - Dp2)/Dp2 < toler)[0]\n",
    "    if len(mtp2) == 0:\n",
    "        print('No ip2 lines found for guess={:g}'.format(tc))\n",
    "        continue   \n",
    "    # \n",
    "    all_guess_rms = [] # One per set of guess, of course\n",
    "    # Loop on i-2 line\n",
    "    for imtm2 in mtm2:\n",
    "        #\n",
    "        if imtm2==(icen-1):\n",
    "            print('No im1 lines found for guess={:g}'.format(tc))\n",
    "            continue\n",
    "        # Setup\n",
    "        tcm2 = float(tcent[imtm2])\n",
    "        xm1_wv = (gd_lines[icen-1]-gd_lines[icen-2])/(wmark-gd_lines[icen-2])\n",
    "        # Best match\n",
    "        xm1 = (tcent-tcm2)/(tc-tcm2)\n",
    "        itm1 = np.argmin(np.abs(xm1-xm1_wv))\n",
    "        # Now loop on ip2\n",
    "        for imtp2 in mtp2:\n",
    "            guess_rms = dict(guess=guess, im1=itm1,im2=imtm2, rms=999., ip1=None, ip2=imtp2)\n",
    "            all_guess_rms.append(guess_rms)\n",
    "            if imtp2==(icen-1):\n",
    "                print('No ip1 lines found for guess={:g}'.format(tc))\n",
    "                continue\n",
    "            #\n",
    "            tcp2 = float(tcent[imtp2])\n",
    "            xp1_wv = (gd_lines[icen+2]-gd_lines[icen+1])/(gd_lines[icen+2]-wmark)\n",
    "            # Best match\n",
    "            xp1 = (tcp2-tcent)/(tcp2-tc)\n",
    "            itp1 = np.argmin(np.abs(xp1-xp1_wv))\n",
    "            guess_rms['ip1'] = itp1\n",
    "            # Time to fit\n",
    "            xval = np.array([tcm2,float(tcent[itm1]),tc,float(tcent[itp1]),tcp2])\n",
    "            wvval = gd_lines[icen-2:icen+3]\n",
    "            pfit = xafits.func_fit(wvval,xval,'polynomial',2,xmin=0.,xmax=1.)\n",
    "            #parm = fitter(poly,wvval,xval)\n",
    "            # Clip one here and refit\n",
    "            # RMS (in pixel space)\n",
    "            rms = np.sqrt(np.sum((xval-xafits.func_val(wvval,pfit))**2)/xval.size)\n",
    "            guess_rms['rms'] = rms\n",
    "            # Save fit too\n",
    "            guess_rms['fit'] = pfit\n",
    "            #print('rms = {:g}'.format(rms))\n",
    "            #if np.abs(rms-4.93) < 1e-1:\n",
    "            #    xdb.set_trace()\n",
    "    # Take best RMS\n",
    "    if len(all_guess_rms) > 0:\n",
    "        all_rms = np.array([idict['rms'] for idict in all_guess_rms])\n",
    "        imn = np.argmin(all_rms)\n",
    "        rms_dicts.append(all_guess_rms[imn])\n",
    "    #xdb.set_trace()"
   ]
  },
  {
   "cell_type": "code",
   "execution_count": 937,
   "metadata": {
    "collapsed": false
   },
   "outputs": [
    {
     "data": {
      "text/plain": [
       "{'fit': {'coeff': array([ -5.12591045e+03,   6.56193318e-01,   9.87014214e-06]),\n",
       "  'func': 'polynomial',\n",
       "  'order': 2,\n",
       "  'xmax': 1.0,\n",
       "  'xmin': 0.0},\n",
       " 'guess': 10,\n",
       " 'im1': 9,\n",
       " 'im2': 8,\n",
       " 'ip1': 12,\n",
       " 'ip2': 12,\n",
       " 'rms': 0.11304321523553673}"
      ]
     },
     "execution_count": 937,
     "metadata": {},
     "output_type": "execute_result"
    }
   ],
   "source": [
    "all_rms = np.array([idict['rms'] for idict in rms_dicts])\n",
    "imin = np.argmin(all_rms)\n",
    "best_dict = rms_dicts[imin]\n",
    "best_dict"
   ]
  },
  {
   "cell_type": "markdown",
   "metadata": {},
   "source": [
    "### Start adding lines"
   ]
  },
  {
   "cell_type": "code",
   "execution_count": 963,
   "metadata": {
    "collapsed": false
   },
   "outputs": [
    {
     "data": {
      "text/plain": [
       "[4358.3400000000001,\n",
       " 4678.1499999999996,\n",
       " 4799.9099999999999,\n",
       " 5085.8199999999997,\n",
       " 5085.8220000000001]"
      ]
     },
     "execution_count": 963,
     "metadata": {},
     "output_type": "execute_result"
    }
   ],
   "source": [
    "wvval0 = list(gd_lines[icen-2:icen+3])\n",
    "wvval0"
   ]
  },
  {
   "cell_type": "code",
   "execution_count": 964,
   "metadata": {
    "collapsed": false
   },
   "outputs": [
    {
     "data": {
      "text/plain": [
       "[1343.0, 1877.0, 2082.0, 2569.0, 2569.0]"
      ]
     },
     "execution_count": 964,
     "metadata": {},
     "output_type": "execute_result"
    }
   ],
   "source": [
    "xval0 = []\n",
    "for key in ['im2','im1','guess','ip1','ip2']:\n",
    "    xval0.append(float(tcent[best_dict[key]]))\n",
    "xval0"
   ]
  },
  {
   "cell_type": "code",
   "execution_count": 971,
   "metadata": {
    "collapsed": false
   },
   "outputs": [
    {
     "name": "stdout",
     "output_type": "stream",
     "text": [
      "(4, 8)\n",
      "rms = 0.243246\n"
     ]
    }
   ],
   "source": [
    "ilow = icen-2\n",
    "ihi = icen+2\n",
    "print(ilow, ihi)\n",
    "#\n",
    "npoly=2\n",
    "pos=True\n",
    "wvval = copy.deepcopy(wvval0)\n",
    "xval = copy.deepcopy(xval0)\n",
    "while ((ilow > 0) or (ihi < gd_lines.size-1)):\n",
    "    # index to add (step on each side)\n",
    "    if pos:\n",
    "        ihi += 1\n",
    "        inew = ihi\n",
    "        pos=False\n",
    "    else:\n",
    "        ilow -= 1\n",
    "        inew = ilow\n",
    "        pos=True\n",
    "    if ilow < 0:\n",
    "        continue\n",
    "    if ihi > (gd_lines.size-1):\n",
    "        continue\n",
    "    #print('inew={:d}'.format(inew))\n",
    "    # New line\n",
    "    new_wv = gd_lines[inew]\n",
    "    wvval.append(new_wv)    \n",
    "    wvval.sort()\n",
    "    # newx\n",
    "    newx = xafits.func_val(new_wv,best_dict['fit']) \n",
    "    # Match and add\n",
    "    imin = np.argmin(np.abs(tcent-newx))\n",
    "    newtc = float(tcent[imin])\n",
    "    xval.append(newtc)\n",
    "    xval.sort()\n",
    "    #print('Added x={:g} at wv={:g}'.format(newtc,new_wv))\n",
    "    #xdb.set_trace()\n",
    "    # Fit (reject 1)\n",
    "    if len(xval) > 7:\n",
    "        npoly = 3\n",
    "    new_fit = xafits.func_fit(np.array(wvval),np.array(xval),'polynomial',npoly,xmin=0.,xmax=1.)\n",
    "    best_dict['fit'] = new_fit\n",
    "# RMS\n",
    "resid2 = (np.array(xval)-xafits.func_val(np.array(wvval),best_dict['fit']))**2\n",
    "rms = np.sqrt(np.sum(resid2)/len(xval))\n",
    "print('rms = {:g}'.format(rms))\n",
    "#print(resid2)\n",
    "#print(xval)\n",
    "#print(wvval)"
   ]
  },
  {
   "cell_type": "code",
   "execution_count": 972,
   "metadata": {
    "collapsed": false
   },
   "outputs": [
    {
     "data": {
      "text/plain": [
       "{'fit': {'coeff': array([ -5.78344468e+03,   8.75193961e-01,  -1.43680751e-05,\n",
       "           8.91208054e-10]),\n",
       "  'func': 'polynomial',\n",
       "  'order': 3,\n",
       "  'xmax': 1.0,\n",
       "  'xmin': 0.0},\n",
       " 'guess': 10,\n",
       " 'im1': 9,\n",
       " 'im2': 8,\n",
       " 'ip1': 12,\n",
       " 'ip2': 12,\n",
       " 'rms': 0.11304321523553673}"
      ]
     },
     "execution_count": 972,
     "metadata": {},
     "output_type": "execute_result"
    }
   ],
   "source": [
    "best_dict"
   ]
  },
  {
   "cell_type": "code",
   "execution_count": 967,
   "metadata": {
    "collapsed": true
   },
   "outputs": [],
   "source": [
    "xdb.xplot(arc_spec)"
   ]
  },
  {
   "cell_type": "code",
   "execution_count": null,
   "metadata": {
    "collapsed": true
   },
   "outputs": [],
   "source": []
  }
 ],
 "metadata": {
  "kernelspec": {
   "display_name": "Python 2",
   "language": "python",
   "name": "python2"
  },
  "language_info": {
   "codemirror_mode": {
    "name": "ipython",
    "version": 2
   },
   "file_extension": ".py",
   "mimetype": "text/x-python",
   "name": "python",
   "nbconvert_exporter": "python",
   "pygments_lexer": "ipython2",
   "version": "2.7.10"
  }
 },
 "nbformat": 4,
 "nbformat_minor": 0
}
