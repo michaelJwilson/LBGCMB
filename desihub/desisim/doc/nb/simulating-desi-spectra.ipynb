{
 "cells": [
  {
   "cell_type": "markdown",
   "metadata": {},
   "source": [
    "# Simulating DESI Spectra\n",
    "\n",
    "The goal of this notebook is to demonstrate how to generate some simple DESI spectra using the `quickgen` utility.  For simplicity we will only generate 1D spectra and skip the more computationally intensive (yet still instructive!) step of extracting 1D spectra from simulated 2D spectra (i.e., so-called \"pixel-level simulations\").\n",
    "\n",
    "For additional (albeit somewhat outdated) information and documentation about `quickgen` see  \n",
    "https://desi.lbl.gov/DocDB/cgi-bin/private/ShowDocument?docid=1429\n",
    "\n",
    "The heart of `quickgen` is the `SpecSim` package, which you can read out here:  \n",
    "http://specsim.readthedocs.io/en/stable\n",
    "\n",
    "If you identify any errors or have requests for additional functionality please create a new issue on  \n",
    "https://github.com/desihub/desisim/issues\n",
    "or send a note to <desi-data@desi.lbl.gov>."
   ]
  },
  {
   "cell_type": "markdown",
   "metadata": {},
   "source": [
    "## Getting started.\n",
    "\n",
    "First, import all the package dependencies."
   ]
  },
  {
   "cell_type": "code",
   "execution_count": 1,
   "metadata": {
    "collapsed": false,
    "deletable": true,
    "editable": true
   },
   "outputs": [],
   "source": [
    "import os\n",
    "import numpy as np\n",
    "\n",
    "import matplotlib.pyplot as plt\n",
    "from astropy.io import fits\n",
    "from astropy.table import Table"
   ]
  },
  {
   "cell_type": "code",
   "execution_count": 2,
   "metadata": {
    "collapsed": false
   },
   "outputs": [
    {
     "name": "stdout",
     "output_type": "stream",
     "text": [
      "WARNING:log.py:19:get_logger: desispec.log is deprecated, please use desiutil.log.\n",
      "WARNING:log.py:19:get_logger: desispec.log is deprecated, please use desiutil.log.\n",
      "WARNING:log.py:19:get_logger: desispec.log is deprecated, please use desiutil.log.\n"
     ]
    },
    {
     "name": "stderr",
     "output_type": "stream",
     "text": [
      "/usr/local/anaconda3/envs/desi/lib/python3.5/site-packages/matplotlib/__init__.py:1401: UserWarning:  This call to matplotlib.use() has no effect\n",
      "because the backend has already been chosen;\n",
      "matplotlib.use() must be called *before* pylab, matplotlib.pyplot,\n",
      "or matplotlib.backends is imported for the first time.\n",
      "\n",
      "  warnings.warn(_use_error_msg)\n"
     ]
    }
   ],
   "source": [
    "import desispec.io\n",
    "import desisim.io\n",
    "from desisim.obs import new_exposure\n",
    "from desisim.scripts import quickgen\n",
    "from desispec.scripts import group_spectra"
   ]
  },
  {
   "cell_type": "code",
   "execution_count": 3,
   "metadata": {
    "collapsed": false
   },
   "outputs": [
    {
     "name": "stdout",
     "output_type": "stream",
     "text": [
      "Populating the interactive namespace from numpy and matplotlib\n"
     ]
    }
   ],
   "source": [
    "%pylab inline"
   ]
  },
  {
   "cell_type": "markdown",
   "metadata": {},
   "source": [
    "#### Check and set your environment\n",
    "\n",
    "Next, make sure we have all the right environment variables set (assuming the bash shell).  If any of these environment variables are missing please set them in your `.bashrc` file (and then restart this notebook) or create them for just this notebook session using the `%set_env` magic command, as we demonstrate below."
   ]
  },
  {
   "cell_type": "code",
   "execution_count": 4,
   "metadata": {
    "collapsed": false
   },
   "outputs": [],
   "source": [
    "def check_env():\n",
    "    for env in ('DESIMODEL', 'DESI_ROOT', 'DESI_SPECTRO_SIM', 'DESI_SPECTRO_DATA', \n",
    "            'DESI_SPECTRO_REDUX', 'SPECPROD', 'PIXPROD'):\n",
    "        if env in os.environ:\n",
    "            print('{} environment set to {}'.format(env, os.getenv(env)))\n",
    "        else:\n",
    "            print('Required environment variable {} not set!'.format(env))"
   ]
  },
  {
   "cell_type": "code",
   "execution_count": 5,
   "metadata": {
    "collapsed": false
   },
   "outputs": [
    {
     "name": "stdout",
     "output_type": "stream",
     "text": [
      "DESIMODEL environment set to /Users/ioannis/repos/desihub/desimodel\n",
      "DESI_ROOT environment set to /Users/ioannis/research/projects/desi\n",
      "DESI_SPECTRO_SIM environment set to /Users/ioannis/research/projects/desi/spectro/sim\n",
      "DESI_SPECTRO_DATA environment set to /Users/ioannis/research/projects/desi/spectro/data\n",
      "DESI_SPECTRO_REDUX environment set to /Users/ioannis/research/projects/desi/spectro/redux\n",
      "SPECPROD environment set to dailytest\n",
      "PIXPROD environment set to dailytest\n"
     ]
    }
   ],
   "source": [
    "check_env()"
   ]
  },
  {
   "cell_type": "markdown",
   "metadata": {},
   "source": [
    "Let's reassign the `$SPECPROD` environment to something other than `dailytest` so that we don't conflict with the outputs of the standard DESI integration test.  In addition, we need to make raw data input `$DESI_SPECTO_DATA` match `$DESI_SPECTRO_SIM/$PIXPROD` where the simulated data will be written."
   ]
  },
  {
   "cell_type": "code",
   "execution_count": 6,
   "metadata": {
    "collapsed": false
   },
   "outputs": [
    {
     "name": "stdout",
     "output_type": "stream",
     "text": [
      "env: SPECPROD=example\n",
      "env: PIXPROD=example\n",
      "env: DESI_SPECTRO_DATA=/Users/ioannis/research/projects/desi/spectro/sim/example/\n",
      "Simulated raw data will be written to /Users/ioannis/research/projects/desi/spectro/sim/example/\n",
      "Pipeline will read raw data from /Users/ioannis/research/projects/desi/spectro/sim/example/\n",
      "    (without knowing that it was simulated)\n",
      "Pipeline will write processed data to /Users/ioannis/research/projects/desi/spectro/redux/example\n"
     ]
    }
   ],
   "source": [
    "%set_env SPECPROD=example\n",
    "%set_env PIXPROD=example\n",
    "rawdata_dir = desisim.io.simdir()\n",
    "%set_env DESI_SPECTRO_DATA=$rawdata_dir\n",
    "\n",
    "print('Simulated raw data will be written to {}'.format(desisim.io.simdir()))\n",
    "print('Pipeline will read raw data from {}'.format(desispec.io.rawdata_root()))\n",
    "print('    (without knowing that it was simulated)')\n",
    "print('Pipeline will write processed data to {}'.format(desispec.io.specprod_root()))"
   ]
  },
  {
   "cell_type": "markdown",
   "metadata": {},
   "source": [
    "## Specify the parameters of the simulation.\n",
    "\n",
    "Next, let's specify the number and spectral type distribution of spectra we want to simulate, and the random seed.  Setting the seed here (which can be any number at all!) ensures that your simulations are reproducible.  Let's also explicitly set the *night* of the \"observations\" (the default is to use the current date) and the *expid* or exposure ID number (which would allow you to simulate more than one DESI exposure).\n",
    "\n",
    "The *flavor* option is used to choose the correct sky-brightness model and it also determines the distribution of targets for a given flavor.  For example, *flavor='dark'* returns the right relative sampling density of ELGs, LRGs, and QSOs.  The other available (science target) options for *flavor* are 'dark', 'gray', 'grey', 'bright', 'bgs', 'mws', 'lrg', 'elg', 'qso', and 'std'.  (You can also set flavor to either 'arc' or 'flat' but that would be boring!)"
   ]
  },
  {
   "cell_type": "code",
   "execution_count": 7,
   "metadata": {
    "collapsed": true
   },
   "outputs": [],
   "source": [
    "nspec = 100\n",
    "seed = 555\n",
    "flavor = 'dark'\n",
    "night = '20170615'\n",
    "expid = 0"
   ]
  },
  {
   "cell_type": "markdown",
   "metadata": {},
   "source": [
    "## Generating noiseless spectra. ##\n",
    "\n",
    "The first step is to generate the `fibermap` and `simspec` files needed by `quickgen`.  The `fibermap` table contains (simulated) information about the position of each target in the DESI focal plane, while the `simspec` table holds the \"truth\" spectra and the intrinsic properties of each object (redshift, noiseless photometry, [OII] flux, etc.).\n",
    "\n",
    "In detail, the *simspec* and *fibermap* data models are described at  \n",
    "* http://desidatamodel.readthedocs.io/en/latest/DESI_SPECTRO_SIM/PIXPROD/NIGHT/simspec-EXPID.html\n",
    "* http://desidatamodel.readthedocs.io/en/latest/DESI_SPECTRO_DATA/NIGHT/fibermap-EXPID.html\n",
    "\n",
    "To generate these files we'll use `new_exposure`, a convenience function for generating random typical exposures of various types for testing.  However, note that `new_exposure` isn't intended for every possible analysis; if you want to use your own mix of objects, you just need to write your own fibermap and simspec files following that format instead of calling `new_exposure`.\n",
    "\n",
    "Note that in our call to `new_exposure`, the `tileid` and `exptime` (exposure time) optional inputs are shown for demonstration purposes but do not need to be explicitly set.  In particular, the default exposure time is based on the value specified in the *$DESIMODEL/data/desi.yaml* parameter file.\n",
    "\n",
    "**Note**: The simspec file format may change in the near future, so structure your code to separate generating spectra from the code for writing these particular formats."
   ]
  },
  {
   "cell_type": "code",
   "execution_count": 8,
   "metadata": {
    "collapsed": false
   },
   "outputs": [
    {
     "name": "stdout",
     "output_type": "stream",
     "text": [
      "INFO:io.py:625:read_basis_templates: Reading /Users/ioannis/research/projects/desi/spectro/templates/basis_templates/v2.3/elg_templates_v2.0.fits\n",
      "INFO:io.py:625:read_basis_templates: Reading /Users/ioannis/research/projects/desi/spectro/templates/basis_templates/v2.3/elg_templates_v2.0.fits\n",
      "INFO:io.py:625:read_basis_templates: Reading /Users/ioannis/research/projects/desi/spectro/templates/basis_templates/v2.3/lrg_templates_v1.3.fits\n",
      "INFO:io.py:625:read_basis_templates: Reading /Users/ioannis/research/projects/desi/spectro/templates/basis_templates/v2.3/elg_templates_v2.0.fits\n",
      "INFO:io.py:625:read_basis_templates: Reading /Users/ioannis/research/projects/desi/spectro/templates/basis_templates/v2.3/elg_templates_v2.0.fits\n",
      "INFO:io.py:625:read_basis_templates: Reading /Users/ioannis/research/projects/desi/spectro/templates/basis_templates/v2.3/star_templates_v2.1.fits\n",
      "INFO:io.py:625:read_basis_templates: Reading /Users/ioannis/research/projects/desi/spectro/templates/basis_templates/v2.3/lrg_templates_v1.3.fits\n",
      "INFO:io.py:625:read_basis_templates: Reading /Users/ioannis/research/projects/desi/spectro/templates/basis_templates/v2.3/star_templates_v2.1.fits\n",
      "INFO:io.py:625:read_basis_templates: Reading /Users/ioannis/research/projects/desi/spectro/templates/basis_templates/v2.3/star_templates_v2.1.fits\n",
      "INFO:io.py:625:read_basis_templates: Reading /Users/ioannis/research/projects/desi/spectro/templates/basis_templates/v2.3/lrg_templates_v1.3.fits\n",
      "INFO:io.py:625:read_basis_templates: Reading /Users/ioannis/research/projects/desi/spectro/templates/basis_templates/v2.3/lrg_templates_v1.3.fits\n",
      "INFO:io.py:625:read_basis_templates: Reading /Users/ioannis/research/projects/desi/spectro/templates/basis_templates/v2.3/star_templates_v2.1.fits\n",
      "INFO:io.py:625:read_basis_templates: Reading /Users/ioannis/research/projects/desi/spectro/templates/basis_templates/v2.3/star_templates_v2.1.fits\n",
      "INFO:io.py:625:read_basis_templates: Reading /Users/ioannis/research/projects/desi/spectro/templates/basis_templates/v2.3/star_templates_v2.1.fits\n",
      "INFO:obs.py:226:new_exposure: skyfile /Users/ioannis/repos/desihub/desimodel/data/spectra/spec-sky.dat\n",
      "INFO:obs.py:297:new_exposure: Wrote /Users/ioannis/research/projects/desi/spectro/sim/example/20170615/fibermap-00000000.fits\n",
      "INFO:obs.py:305:new_exposure: Wrote /Users/ioannis/research/projects/desi/spectro/sim/example/20170615/simspec-00000000.fits\n"
     ]
    }
   ],
   "source": [
    "fibermap, truth = new_exposure(flavor=flavor, nspec=nspec, seed=seed, night=night, \n",
    "                               expid=expid, tileid=None, exptime=None)"
   ]
  },
  {
   "cell_type": "markdown",
   "metadata": {},
   "source": [
    "## Reading the fibermap and spectral metadata ##\n",
    "\n",
    "First, let's see what got written to the raw data directory as a result of that last command."
   ]
  },
  {
   "cell_type": "code",
   "execution_count": 9,
   "metadata": {
    "collapsed": false
   },
   "outputs": [
    {
     "name": "stdout",
     "output_type": "stream",
     "text": [
      "/Users/ioannis/research/projects/desi/spectro/sim/example/\r\n",
      "/Users/ioannis/research/projects/desi/spectro/sim/example//20170615\r\n",
      "/Users/ioannis/research/projects/desi/spectro/sim/example//20170615/fibermap-00000000.fits\r\n",
      "/Users/ioannis/research/projects/desi/spectro/sim/example//20170615/simspec-00000000.fits\r\n",
      "/Users/ioannis/research/projects/desi/spectro/sim/example//etc\r\n",
      "/Users/ioannis/research/projects/desi/spectro/sim/example//etc/obslog.sqlite\r\n"
     ]
    }
   ],
   "source": [
    "rawdata_dir = desispec.io.rawdata_root()\n",
    "!find $rawdata_dir | sort"
   ]
  },
  {
   "cell_type": "markdown",
   "metadata": {},
   "source": [
    "Let's go a step further and read the *fibermap* and *simspec* files from on-disk.\n",
    "\n",
    "Note that in general code should not generate filepaths by hand, but rather call `desispec.io.findfile` to find the file it needs.  If you need to override the standard environment variable locations, you can use the `outdir` option, while still letting it construct the canonical filename for each type of file."
   ]
  },
  {
   "cell_type": "code",
   "execution_count": 10,
   "metadata": {
    "collapsed": false
   },
   "outputs": [],
   "source": [
    "fiberfile = desispec.io.findfile('fibermap', night=night, expid=expid)\n",
    "simspecfile = desisim.io.findfile('simspec', night=night, expid=expid)"
   ]
  },
  {
   "cell_type": "code",
   "execution_count": 11,
   "metadata": {
    "collapsed": false
   },
   "outputs": [
    {
     "name": "stdout",
     "output_type": "stream",
     "text": [
      "Reading fibermap file /Users/ioannis/research/projects/desi/spectro/sim/example/20170615/fibermap-00000000.fits\n",
      "Filename: /Users/ioannis/research/projects/desi/spectro/sim/example/20170615/fibermap-00000000.fits\n",
      "No.    Name         Type      Cards   Dimensions   Format\n",
      "  0  PRIMARY     PrimaryHDU       6   ()      \n",
      "  1  FIBERMAP    BinTableHDU     98   100R x 26C   [10A, 20A, 8A, K, K, K, K, 5E, 50A, J, K, J, J, J, J, E, D, D, D, D, D, D, D, D, E, E]   \n"
     ]
    }
   ],
   "source": [
    "print('Reading fibermap file {}'.format(fiberfile))\n",
    "hdu = fits.open(fiberfile)\n",
    "hdu.info()\n",
    "fibermap = Table(hdu['FIBERMAP'].data)\n",
    "hdu.close()"
   ]
  },
  {
   "cell_type": "code",
   "execution_count": 12,
   "metadata": {
    "collapsed": false
   },
   "outputs": [
    {
     "data": {
      "text/html": [
       "&lt;Table length=3&gt;\n",
       "<table id=\"table4641429376\" class=\"table-striped table-bordered table-condensed\">\n",
       "<thead><tr><th>OBJTYPE</th><th>TARGETCAT</th><th>BRICKNAME</th><th>TARGETID</th><th>DESI_TARGET</th><th>BGS_TARGET</th><th>MWS_TARGET</th><th>MAG [5]</th><th>FILTER [5]</th><th>SPECTROID</th><th>POSITIONER</th><th>LOCATION</th><th>DEVICE_LOC</th><th>PETAL_LOC</th><th>FIBER</th><th>LAMBDAREF</th><th>RA_TARGET</th><th>DEC_TARGET</th><th>RA_OBS</th><th>DEC_OBS</th><th>X_TARGET</th><th>Y_TARGET</th><th>X_FVCOBS</th><th>Y_FVCOBS</th><th>Y_FVCERR</th><th>X_FVCERR</th></tr></thead>\n",
       "<thead><tr><th>str10</th><th>str20</th><th>str8</th><th>int64</th><th>int64</th><th>int64</th><th>int64</th><th>float32</th><th>str10</th><th>int32</th><th>int64</th><th>int32</th><th>int32</th><th>int32</th><th>int32</th><th>float32</th><th>float64</th><th>float64</th><th>float64</th><th>float64</th><th>float64</th><th>float64</th><th>float64</th><th>float64</th><th>float32</th><th>float32</th></tr></thead>\n",
       "<tr><td>ELG</td><td></td><td>3331p155</td><td>5920414735219039951</td><td>2</td><td>0</td><td>0</td><td>23.1645 .. 21.7528</td><td>DECAM_G .. WISE_W2</td><td>0</td><td>95</td><td>95</td><td>95</td><td>0</td><td>0</td><td>5400.0</td><td>333.237503875</td><td>15.5578749931</td><td>333.237503875</td><td>15.5578749931</td><td>-4.13464340313</td><td>-176.016389199</td><td>-4.13464340313</td><td>-176.016389199</td><td>0.0</td><td>0.0</td></tr>\n",
       "<tr><td>ELG</td><td></td><td>3334p155</td><td>5523080440782501539</td><td>2</td><td>0</td><td>0</td><td>22.9234 .. 22.1754</td><td>DECAM_G .. WISE_W2</td><td>0</td><td>62</td><td>62</td><td>62</td><td>0</td><td>1</td><td>5400.0</td><td>333.413137964</td><td>15.4815165289</td><td>333.413137964</td><td>15.4815165289</td><td>-45.5863791815</td><td>-157.134697634</td><td>-45.5863791815</td><td>-157.134697634</td><td>0.0</td><td>0.0</td></tr>\n",
       "<tr><td>ELG</td><td></td><td>3334p157</td><td>7067568092200589017</td><td>2</td><td>0</td><td>0</td><td>21.8622 .. 21.6234</td><td>DECAM_G .. WISE_W2</td><td>0</td><td>102</td><td>102</td><td>102</td><td>0</td><td>2</td><td>5400.0</td><td>333.423893658</td><td>15.631559969</td><td>333.423893658</td><td>15.631559969</td><td>-48.26471976</td><td>-194.58679079</td><td>-48.26471976</td><td>-194.58679079</td><td>0.0</td><td>0.0</td></tr>\n",
       "</table>"
      ],
      "text/plain": [
       "<Table length=3>\n",
       "OBJTYPE TARGETCAT BRICKNAME ...    Y_FVCOBS    Y_FVCERR X_FVCERR\n",
       " str10    str20      str8   ...    float64     float32  float32 \n",
       "------- --------- --------- ... -------------- -------- --------\n",
       "    ELG            3331p155 ... -176.016389199      0.0      0.0\n",
       "    ELG            3334p155 ... -157.134697634      0.0      0.0\n",
       "    ELG            3334p157 ...  -194.58679079      0.0      0.0"
      ]
     },
     "execution_count": 12,
     "metadata": {},
     "output_type": "execute_result"
    }
   ],
   "source": [
    "fibermap[:3]"
   ]
  },
  {
   "cell_type": "code",
   "execution_count": 13,
   "metadata": {
    "collapsed": false
   },
   "outputs": [
    {
     "name": "stdout",
     "output_type": "stream",
     "text": [
      "Reading simspec file /Users/ioannis/research/projects/desi/spectro/sim/example/20170615/simspec-00000000.fits.\n",
      "Filename: /Users/ioannis/research/projects/desi/spectro/sim/example/20170615/simspec-00000000.fits\n",
      "No.    Name         Type      Cards   Dimensions   Format\n",
      "  0  PRIMARY     PrimaryHDU      15   ()      \n",
      "  1  WAVE        ImageHDU         9   (31901,)   float64   \n",
      "  2  FLUX        ImageHDU         9   (31901, 100)   float32   \n",
      "  3  SKYFLUX     ImageHDU         8   (31901,)   float32   \n",
      "  4  WAVE_B      ImageHDU         9   (12326,)   float64   \n",
      "  5  PHOT_B      ImageHDU         8   (12326, 100)   float32   \n",
      "  6  SKYPHOT_B   ImageHDU         7   (12326,)   float32   \n",
      "  7  WAVE_R      ImageHDU         9   (11205,)   float64   \n",
      "  8  PHOT_R      ImageHDU         8   (11205, 100)   float32   \n",
      "  9  SKYPHOT_R   ImageHDU         7   (11205,)   float32   \n",
      " 10  WAVE_Z      ImageHDU         9   (12765,)   float64   \n",
      " 11  PHOT_Z      ImageHDU         8   (12765, 100)   float32   \n",
      " 12  SKYPHOT_Z   ImageHDU         7   (12765,)   float32   \n",
      " 13  METADATA    BinTableHDU     61   100R x 24C   [10A, 10A, J, K, E, E, 6E, 2E, E, E, E, E, E, E, E, E, E, E, E, E, E, E, E, E]   \n"
     ]
    }
   ],
   "source": [
    "print('Reading simspec file {}.'.format(simspecfile))\n",
    "hdu = fits.open(simspecfile)\n",
    "hdu.info()\n",
    "meta = Table(hdu['METADATA'].data)\n",
    "hdu.close()"
   ]
  },
  {
   "cell_type": "code",
   "execution_count": 14,
   "metadata": {
    "collapsed": false
   },
   "outputs": [
    {
     "data": {
      "text/html": [
       "&lt;Table length=3&gt;\n",
       "<table id=\"table4641429712\" class=\"table-striped table-bordered table-condensed\">\n",
       "<thead><tr><th>OBJTYPE</th><th>SUBTYPE</th><th>TEMPLATEID</th><th>SEED</th><th>REDSHIFT</th><th>MAG</th><th>DECAM_FLUX [6]</th><th>WISE_FLUX [2]</th><th>OIIFLUX</th><th>HBETAFLUX</th><th>EWOII</th><th>EWHBETA</th><th>D4000</th><th>VDISP</th><th>OIIDOUBLET</th><th>OIIIHBETA</th><th>OIIHBETA</th><th>NIIHBETA</th><th>SIIHBETA</th><th>ZMETAL</th><th>AGE</th><th>TEFF</th><th>LOGG</th><th>FEH</th></tr></thead>\n",
       "<thead><tr><th>str10</th><th>str10</th><th>int32</th><th>int64</th><th>float32</th><th>float32</th><th>float32</th><th>float32</th><th>float32</th><th>float32</th><th>float32</th><th>float32</th><th>float32</th><th>float32</th><th>float32</th><th>float32</th><th>float32</th><th>float32</th><th>float32</th><th>float32</th><th>float32</th><th>float32</th><th>float32</th><th>float32</th></tr></thead>\n",
       "<tr><td>ELG</td><td></td><td>3512</td><td>3244113739</td><td>1.25838</td><td>22.937</td><td>0.441517 .. 1.32143</td><td>2.19795 .. 1.99019</td><td>8.25246e-17</td><td>-1.0</td><td>73.3845</td><td>-1.0</td><td>1.00652</td><td>68.2661</td><td>0.733237</td><td>-0.0850786</td><td>0.275525</td><td>-0.248196</td><td>-0.19466</td><td>-1.0</td><td>-1.0</td><td>-1.0</td><td>-1.0</td><td>-1.0</td></tr>\n",
       "<tr><td>ELG</td><td></td><td>4951</td><td>3952505139</td><td>0.820804</td><td>22.6349</td><td>0.616534 .. 1.59198</td><td>2.13285 .. 1.34848</td><td>4.69683e-17</td><td>-1.0</td><td>25.1577</td><td>-1.0</td><td>1.03366</td><td>40.1724</td><td>0.757255</td><td>-0.00885063</td><td>0.630011</td><td>-0.265495</td><td>-0.230491</td><td>-1.0</td><td>-1.0</td><td>-1.0</td><td>-1.0</td><td>-1.0</td></tr>\n",
       "<tr><td>ELG</td><td></td><td>6928</td><td>369720621</td><td>1.11619</td><td>21.8746</td><td>1.64478 .. 2.487</td><td>2.91573 .. 2.2421</td><td>1.45983e-16</td><td>-1.0</td><td>48.7059</td><td>-1.0</td><td>0.990213</td><td>40.1724</td><td>0.698619</td><td>-0.00354248</td><td>0.468131</td><td>-0.177077</td><td>-0.244851</td><td>-1.0</td><td>-1.0</td><td>-1.0</td><td>-1.0</td><td>-1.0</td></tr>\n",
       "</table>"
      ],
      "text/plain": [
       "<Table length=3>\n",
       "OBJTYPE SUBTYPE TEMPLATEID    SEED    ...   AGE     TEFF    LOGG    FEH  \n",
       " str10   str10    int32      int64    ... float32 float32 float32 float32\n",
       "------- ------- ---------- ---------- ... ------- ------- ------- -------\n",
       "    ELG               3512 3244113739 ...    -1.0    -1.0    -1.0    -1.0\n",
       "    ELG               4951 3952505139 ...    -1.0    -1.0    -1.0    -1.0\n",
       "    ELG               6928  369720621 ...    -1.0    -1.0    -1.0    -1.0"
      ]
     },
     "execution_count": 14,
     "metadata": {},
     "output_type": "execute_result"
    }
   ],
   "source": [
    "meta[:3]"
   ]
  },
  {
   "cell_type": "markdown",
   "metadata": {},
   "source": [
    "#### Make a simple plot\n",
    "\n",
    "Here's a fun simple plot of the redshift histogram distributions.  Now you try!"
   ]
  },
  {
   "cell_type": "code",
   "execution_count": 15,
   "metadata": {
    "collapsed": false,
    "scrolled": true
   },
   "outputs": [
    {
     "data": {
      "text/plain": [
       "(-0.2, 2.3472768068313599)"
      ]
     },
     "execution_count": 15,
     "metadata": {},
     "output_type": "execute_result"
    },
    {
     "data": {
      "image/png": "[encoded data removed]",
      "text/plain": [
       "<matplotlib.figure.Figure at 0x11691dfd0>"
      ]
     },
     "metadata": {},
     "output_type": "display_data"
    }
   ],
   "source": [
    "allobjtype = meta['OBJTYPE']\n",
    "redlim = (-0.2, 1.1*meta['REDSHIFT'].max())\n",
    "fig, ax = plt.subplots()\n",
    "for objtype in sorted(set(allobjtype)):\n",
    "    indx = objtype == allobjtype\n",
    "    hh = ax.hist(meta['REDSHIFT'][indx], bins=nspec//3, \n",
    "                 label=objtype, alpha=0.5, range=redlim)\n",
    "ax.set_xlabel('Redshift')\n",
    "ax.set_ylabel('Number of Simulated Spectra')\n",
    "ax.legend(loc='upper right', ncol=3)\n",
    "ax.margins(0.2)\n",
    "ax.set_xlim(redlim)"
   ]
  },
  {
   "cell_type": "markdown",
   "metadata": {},
   "source": [
    "## Simulating spectra using quickgen.\n",
    "\n",
    "We're now ready to simulate DESI spectra using `quickgen`!  Since we're calling `quickgen` from within this notebook (rather than from the command line in a terminal) we have to parse the `simspec` and `fibermap` filename inputs first.\n",
    "\n",
    "`quickgen` generates four types of files and writes them to the *\\$DESI_SPECTRO_REDUX/\\$SPECPROD/exposures* directory: `calib`, `sky`, `cframe`, and `frame` files.  We will use the `cframe`, or calibrated frame files, which contain the flux-calibrated and sky-subtracted DESI spectra (one file per *brz* camera and spectrograph).  \n",
    "\n",
    "The data model and the other files and their contents are documented here:  \n",
    "http://desidatamodel.readthedocs.io/en/latest/DESI_SPECTRO_REDUX/PRODNAME/exposures/NIGHT/EXPID/index.html\n",
    "\n",
    "The code in the following cell calls the equivalent of the command line:\n",
    "```\n",
    "quickgen --simspec {simspecfile} --fibermap {fiberfile}\n",
    "```"
   ]
  },
  {
   "cell_type": "code",
   "execution_count": 16,
   "metadata": {
    "collapsed": false
   },
   "outputs": [
    {
     "name": "stdout",
     "output_type": "stream",
     "text": [
      "INFO:quickgen.py:242:main: Reading fibermap file /Users/ioannis/research/projects/desi/spectro/sim/example/20170615/fibermap-00000000.fits\n",
      "INFO:quickgen.py:275:main: Initializing SpecSim with config desi\n",
      "INFO:quickgen.py:281:main: Reading input file /Users/ioannis/research/projects/desi/spectro/sim/example/20170615/simspec-00000000.fits\n",
      "INFO:quickgen.py:672:main: Writing files for channel:b, spectrograph:0, spectra:0 to 100\n",
      "INFO:quickgen.py:699:main: Wrote file /Users/ioannis/research/projects/desi/spectro/redux/example/exposures/20170615/00000000/frame-b0-00000000.fits\n",
      "INFO:quickgen.py:717:main: Wrote file /Users/ioannis/research/projects/desi/spectro/redux/example/exposures/20170615/00000000/cframe-b0-00000000.fits\n",
      "INFO:quickgen.py:732:main: Wrote file /Users/ioannis/research/projects/desi/spectro/redux/example/exposures/20170615/00000000/sky-b0-00000000.fits\n",
      "INFO:quickgen.py:753:main: Wrote file /Users/ioannis/research/projects/desi/spectro/redux/example/exposures/20170615/00000000/calib-b0-00000000.fits\n",
      "INFO:quickgen.py:672:main: Writing files for channel:r, spectrograph:0, spectra:0 to 100\n"
     ]
    },
    {
     "name": "stderr",
     "output_type": "stream",
     "text": [
      "WARNING: VerifyWarning: Card is too long, comment will be truncated. [astropy.io.fits.card]\n"
     ]
    },
    {
     "name": "stdout",
     "output_type": "stream",
     "text": [
      "INFO:quickgen.py:699:main: Wrote file /Users/ioannis/research/projects/desi/spectro/redux/example/exposures/20170615/00000000/frame-r0-00000000.fits\n",
      "INFO:quickgen.py:717:main: Wrote file /Users/ioannis/research/projects/desi/spectro/redux/example/exposures/20170615/00000000/cframe-r0-00000000.fits\n",
      "INFO:quickgen.py:732:main: Wrote file /Users/ioannis/research/projects/desi/spectro/redux/example/exposures/20170615/00000000/sky-r0-00000000.fits\n",
      "INFO:quickgen.py:753:main: Wrote file /Users/ioannis/research/projects/desi/spectro/redux/example/exposures/20170615/00000000/calib-r0-00000000.fits\n",
      "INFO:quickgen.py:672:main: Writing files for channel:z, spectrograph:0, spectra:0 to 100\n",
      "INFO:quickgen.py:699:main: Wrote file /Users/ioannis/research/projects/desi/spectro/redux/example/exposures/20170615/00000000/frame-z0-00000000.fits\n",
      "INFO:quickgen.py:717:main: Wrote file /Users/ioannis/research/projects/desi/spectro/redux/example/exposures/20170615/00000000/cframe-z0-00000000.fits\n",
      "INFO:quickgen.py:732:main: Wrote file /Users/ioannis/research/projects/desi/spectro/redux/example/exposures/20170615/00000000/sky-z0-00000000.fits\n",
      "INFO:quickgen.py:753:main: Wrote file /Users/ioannis/research/projects/desi/spectro/redux/example/exposures/20170615/00000000/calib-z0-00000000.fits\n"
     ]
    }
   ],
   "source": [
    "args = quickgen.parse([\n",
    "    '--simspec', simspecfile,\n",
    "    '--fibermap', fiberfile\n",
    "])\n",
    "quickgen.main(args)"
   ]
  },
  {
   "cell_type": "markdown",
   "metadata": {},
   "source": [
    "#### Inspect the output cframe files ####\n",
    "\n",
    "Let's briefly look at one of the `cframe` files for the blue camera using `desispec.io.frame.read_frame`, which returns a `Frame` class with all the attributes you might want."
   ]
  },
  {
   "cell_type": "code",
   "execution_count": 17,
   "metadata": {
    "collapsed": false
   },
   "outputs": [
    {
     "name": "stdout",
     "output_type": "stream",
     "text": [
      "Reading /Users/ioannis/research/projects/desi/spectro/redux/example/exposures/20170615/00000000/cframe-b0-00000000.fits\n"
     ]
    }
   ],
   "source": [
    "cframefile = desispec.io.findfile('cframe', night=night, expid=expid, camera='b0')\n",
    "print('Reading {}'.format(cframefile))\n",
    "cframe = desispec.io.frame.read_frame(cframefile)"
   ]
  },
  {
   "cell_type": "code",
   "execution_count": 18,
   "metadata": {
    "collapsed": false
   },
   "outputs": [
    {
     "data": {
      "text/plain": [
       "['R',\n",
       " '__class__',\n",
       " '__delattr__',\n",
       " '__dict__',\n",
       " '__dir__',\n",
       " '__doc__',\n",
       " '__eq__',\n",
       " '__format__',\n",
       " '__ge__',\n",
       " '__getattribute__',\n",
       " '__getitem__',\n",
       " '__gt__',\n",
       " '__hash__',\n",
       " '__init__',\n",
       " '__le__',\n",
       " '__lt__',\n",
       " '__module__',\n",
       " '__ne__',\n",
       " '__new__',\n",
       " '__reduce__',\n",
       " '__reduce_ex__',\n",
       " '__repr__',\n",
       " '__setattr__',\n",
       " '__sizeof__',\n",
       " '__str__',\n",
       " '__subclasshook__',\n",
       " '__weakref__',\n",
       " 'chi2pix',\n",
       " 'fibermap',\n",
       " 'fibers',\n",
       " 'flux',\n",
       " 'ivar',\n",
       " 'mask',\n",
       " 'meta',\n",
       " 'nspec',\n",
       " 'nwave',\n",
       " 'resolution_data',\n",
       " 'spectrograph',\n",
       " 'vet',\n",
       " 'wave']"
      ]
     },
     "execution_count": 18,
     "metadata": {},
     "output_type": "execute_result"
    }
   ],
   "source": [
    "dir(cframe)"
   ]
  },
  {
   "cell_type": "markdown",
   "metadata": {},
   "source": [
    "Let's make a quick plot of the zeroth spectrum."
   ]
  },
  {
   "cell_type": "code",
   "execution_count": 19,
   "metadata": {
    "collapsed": false
   },
   "outputs": [
    {
     "name": "stdout",
     "output_type": "stream",
     "text": [
      "(4760,) (100, 4760)\n"
     ]
    }
   ],
   "source": [
    "print(cframe.wave.shape, cframe.flux.shape)"
   ]
  },
  {
   "cell_type": "code",
   "execution_count": 20,
   "metadata": {
    "collapsed": false
   },
   "outputs": [
    {
     "data": {
      "text/plain": [
       "<matplotlib.text.Text at 0x11beed128>"
      ]
     },
     "execution_count": 20,
     "metadata": {},
     "output_type": "execute_result"
    },
    {
     "data": {
      "image/png": "[encoded data removed]",
      "text/plain": [
       "<matplotlib.figure.Figure at 0x116ef9780>"
      ]
     },
     "metadata": {},
     "output_type": "display_data"
    }
   ],
   "source": [
    "fig, ax = plt.subplots()\n",
    "ax.errorbar(cframe.wave, cframe.flux[0, :], 1/np.sqrt(cframe.ivar[0, :]))\n",
    "ax.set_xlabel('Wavelength (A)')\n",
    "ax.set_ylabel('Flux ($10^{-17}$ erg/s/cm$^2$)')"
   ]
  },
  {
   "cell_type": "markdown",
   "metadata": {},
   "source": [
    "## Regrouping the spectra ##\n",
    "\n",
    "As you can imagine, working with `cframe` files is pretty tedious, especially across three cameras, 10 spectrographs, and more than 35 million targets!  Therefore, let's combine and reorganize the individual `cframe` files into `spectra` files grouped on the sky. Spectra are organized into healpix pixels (here chosen to have `nside=64`).  If you're interested, you can read more about the healpix directory structure here:  \n",
    "https://github.com/desihub/desispec/blob/master/doc/nb/Intro_to_DESI_spectra.ipynb\n",
    "\n",
    "Regrouping is especially important for real observations with overlapping tiles where the same object could be reobserved on different exposures separated by short or large amounts of time.\n",
    "\n",
    "**TODO**: Add the *spectra* files to `desidatamodel`.\n",
    "\n",
    "To regroup the spectra, we will run the (notebook) equivalent of the command:\n",
    "```\n",
    "desi_group_spectra --hpxnside 64\n",
    "```"
   ]
  },
  {
   "cell_type": "code",
   "execution_count": 21,
   "metadata": {
    "collapsed": false
   },
   "outputs": [
    {
     "name": "stdout",
     "output_type": "stream",
     "text": [
      "INFO:group_spectra.py:74:main: Starting at Sun Jun 18 11:20:38 2017\n",
      "INFO:group_spectra.py:75:main:   using raw dir /Users/ioannis/research/projects/desi/spectro/sim/example\n",
      "INFO:group_spectra.py:76:main:   using spectro production dir /Users/ioannis/research/projects/desi/spectro/redux/example\n",
      "INFO:group_spectra.py:197:main: Distributing 4 spectral groups among 1 processes\n",
      "INFO:group_spectra.py:220:main:   (0000) Begin spectral group spectra-64-12609 at Sun Jun 18 11:20:38 2017\n",
      "INFO:group_spectra.py:294:main:   (0000) End spectral group spectra-64-12609 at Sun Jun 18 11:20:47 2017\n",
      "INFO:group_spectra.py:220:main:   (0000) Begin spectral group spectra-64-12612 at Sun Jun 18 11:20:47 2017\n",
      "INFO:group_spectra.py:294:main:   (0000) End spectral group spectra-64-12612 at Sun Jun 18 11:21:36 2017\n",
      "INFO:group_spectra.py:220:main:   (0000) Begin spectral group spectra-64-19435 at Sun Jun 18 11:21:36 2017\n",
      "INFO:group_spectra.py:294:main:   (0000) End spectral group spectra-64-19435 at Sun Jun 18 11:22:14 2017\n",
      "INFO:group_spectra.py:220:main:   (0000) Begin spectral group spectra-64-19438 at Sun Jun 18 11:22:14 2017\n",
      "INFO:group_spectra.py:294:main:   (0000) End spectral group spectra-64-19438 at Sun Jun 18 11:22:25 2017\n",
      "INFO:group_spectra.py:301:main: Finishing at Sun Jun 18 11:22:25 2017\n"
     ]
    }
   ],
   "source": [
    "nside = 64\n",
    "args = group_spectra.parse(['--hpxnside', '{}'.format(nside)])\n",
    "group_spectra.main(args)"
   ]
  },
  {
   "cell_type": "markdown",
   "metadata": {},
   "source": [
    "#### Inspect the output (combined and regrouped) spectra ####\n",
    "\n",
    "So what did we end up with in the redux output directory?\n",
    "* `exposures/{night}/{expid}/`: individual spectrograph camera spectra (\"frames\")\n",
    "  grouped by night/expid\n",
    "* `spectra-64/`: spectra grouped by healpix location on the sky"
   ]
  },
  {
   "cell_type": "code",
   "execution_count": 22,
   "metadata": {
    "collapsed": false
   },
   "outputs": [
    {
     "name": "stdout",
     "output_type": "stream",
     "text": [
      "/Users/ioannis/research/projects/desi/spectro/redux/example\r\n",
      "/Users/ioannis/research/projects/desi/spectro/redux/example/exposures\r\n",
      "/Users/ioannis/research/projects/desi/spectro/redux/example/exposures/20170615\r\n",
      "/Users/ioannis/research/projects/desi/spectro/redux/example/exposures/20170615/00000000\r\n",
      "/Users/ioannis/research/projects/desi/spectro/redux/example/exposures/20170615/00000000/calib-b0-00000000.fits\r\n",
      "/Users/ioannis/research/projects/desi/spectro/redux/example/exposures/20170615/00000000/calib-r0-00000000.fits\r\n",
      "/Users/ioannis/research/projects/desi/spectro/redux/example/exposures/20170615/00000000/calib-z0-00000000.fits\r\n",
      "/Users/ioannis/research/projects/desi/spectro/redux/example/exposures/20170615/00000000/cframe-b0-00000000.fits\r\n",
      "/Users/ioannis/research/projects/desi/spectro/redux/example/exposures/20170615/00000000/cframe-r0-00000000.fits\r\n",
      "/Users/ioannis/research/projects/desi/spectro/redux/example/exposures/20170615/00000000/cframe-z0-00000000.fits\r\n",
      "/Users/ioannis/research/projects/desi/spectro/redux/example/exposures/20170615/00000000/frame-b0-00000000.fits\r\n",
      "/Users/ioannis/research/projects/desi/spectro/redux/example/exposures/20170615/00000000/frame-r0-00000000.fits\r\n",
      "/Users/ioannis/research/projects/desi/spectro/redux/example/exposures/20170615/00000000/frame-z0-00000000.fits\r\n",
      "/Users/ioannis/research/projects/desi/spectro/redux/example/exposures/20170615/00000000/sky-b0-00000000.fits\r\n",
      "/Users/ioannis/research/projects/desi/spectro/redux/example/exposures/20170615/00000000/sky-r0-00000000.fits\r\n",
      "/Users/ioannis/research/projects/desi/spectro/redux/example/exposures/20170615/00000000/sky-z0-00000000.fits\r\n",
      "/Users/ioannis/research/projects/desi/spectro/redux/example/spectra-64\r\n",
      "/Users/ioannis/research/projects/desi/spectro/redux/example/spectra-64/126\r\n",
      "/Users/ioannis/research/projects/desi/spectro/redux/example/spectra-64/126/12609\r\n",
      "/Users/ioannis/research/projects/desi/spectro/redux/example/spectra-64/126/12609/spectra-64-12609.fits\r\n",
      "/Users/ioannis/research/projects/desi/spectro/redux/example/spectra-64/126/12612\r\n",
      "/Users/ioannis/research/projects/desi/spectro/redux/example/spectra-64/126/12612/spectra-64-12612.fits\r\n",
      "/Users/ioannis/research/projects/desi/spectro/redux/example/spectra-64/194\r\n",
      "/Users/ioannis/research/projects/desi/spectro/redux/example/spectra-64/194/19435\r\n",
      "/Users/ioannis/research/projects/desi/spectro/redux/example/spectra-64/194/19435/spectra-64-19435.fits\r\n",
      "/Users/ioannis/research/projects/desi/spectro/redux/example/spectra-64/194/19438\r\n",
      "/Users/ioannis/research/projects/desi/spectro/redux/example/spectra-64/194/19438/spectra-64-19438.fits\r\n"
     ]
    }
   ],
   "source": [
    "reduxdir = desispec.io.specprod_root()\n",
    "!find $reduxdir | sort"
   ]
  },
  {
   "cell_type": "markdown",
   "metadata": {},
   "source": [
    "As a quick example, let's plot up the zeroth spectrum in healpix pixel `19435`."
   ]
  },
  {
   "cell_type": "code",
   "execution_count": 23,
   "metadata": {
    "collapsed": false
   },
   "outputs": [],
   "source": [
    "specfilename = desispec.io.findfile('spectra', groupname=19435, nside=nside)"
   ]
  },
  {
   "cell_type": "code",
   "execution_count": 24,
   "metadata": {
    "collapsed": false
   },
   "outputs": [
    {
     "name": "stdout",
     "output_type": "stream",
     "text": [
      "Reading /Users/ioannis/research/projects/desi/spectro/redux/example/spectra-64/194/19435/spectra-64-19435.fits\n"
     ]
    }
   ],
   "source": [
    "print('Reading {}'.format(specfilename))\n",
    "specobj = desispec.io.read_spectra(specfilename)"
   ]
  },
  {
   "cell_type": "code",
   "execution_count": 25,
   "metadata": {
    "collapsed": false
   },
   "outputs": [
    {
     "data": {
      "text/plain": [
       "['R',\n",
       " '__class__',\n",
       " '__delattr__',\n",
       " '__dict__',\n",
       " '__dir__',\n",
       " '__doc__',\n",
       " '__eq__',\n",
       " '__format__',\n",
       " '__ge__',\n",
       " '__getattribute__',\n",
       " '__gt__',\n",
       " '__hash__',\n",
       " '__init__',\n",
       " '__le__',\n",
       " '__lt__',\n",
       " '__module__',\n",
       " '__ne__',\n",
       " '__new__',\n",
       " '__reduce__',\n",
       " '__reduce_ex__',\n",
       " '__repr__',\n",
       " '__setattr__',\n",
       " '__sizeof__',\n",
       " '__str__',\n",
       " '__subclasshook__',\n",
       " '__weakref__',\n",
       " '_bands',\n",
       " '_ftype',\n",
       " '_single',\n",
       " 'bands',\n",
       " 'extra',\n",
       " 'fibermap',\n",
       " 'flux',\n",
       " 'ftype',\n",
       " 'ivar',\n",
       " 'mask',\n",
       " 'meta',\n",
       " 'num_spectra',\n",
       " 'num_targets',\n",
       " 'resolution_data',\n",
       " 'select',\n",
       " 'target_ids',\n",
       " 'update',\n",
       " 'wave',\n",
       " 'wavelength_grid']"
      ]
     },
     "execution_count": 25,
     "metadata": {},
     "output_type": "execute_result"
    }
   ],
   "source": [
    "dir(specobj)"
   ]
  },
  {
   "cell_type": "code",
   "execution_count": 26,
   "metadata": {
    "collapsed": false
   },
   "outputs": [
    {
     "data": {
      "text/plain": [
       "(dict_keys(['r', 'b', 'z']), dict_keys(['r', 'b', 'z']))"
      ]
     },
     "execution_count": 26,
     "metadata": {},
     "output_type": "execute_result"
    }
   ],
   "source": [
    "specobj.wave.keys(), specobj.flux.keys()"
   ]
  },
  {
   "cell_type": "code",
   "execution_count": 27,
   "metadata": {
    "collapsed": false
   },
   "outputs": [
    {
     "data": {
      "text/plain": [
       "<matplotlib.text.Text at 0x11b160828>"
      ]
     },
     "execution_count": 27,
     "metadata": {},
     "output_type": "execute_result"
    },
    {
     "data": {
      "image/png": "[encoded data removed]",
      "text/plain": [
       "<matplotlib.figure.Figure at 0x116eedd30>"
      ]
     },
     "metadata": {},
     "output_type": "display_data"
    }
   ],
   "source": [
    "thisone = 0\n",
    "fig, ax = plt.subplots()\n",
    "for camera, color in zip( ('b', 'r', 'z'), ('blue', 'red', 'magenta') ):\n",
    "    ax.plot(specobj.wave[camera], specobj.flux[camera][thisone], color=color)\n",
    "ax.set_xlabel('Wavelength (A)')\n",
    "ax.set_ylabel('Flux ($10^{-17}$ erg/s/cm$^2$)')"
   ]
  }
 ],
 "metadata": {
  "anaconda-cloud": {},
  "kernelspec": {
   "display_name": "Python 3",
   "language": "python",
   "name": "python3"
  },
  "language_info": {
   "codemirror_mode": {
    "name": "ipython",
    "version": 3
   },
   "file_extension": ".py",
   "mimetype": "text/x-python",
   "name": "python",
   "nbconvert_exporter": "python",
   "pygments_lexer": "ipython3",
   "version": "3.5.2"
  }
 },
 "nbformat": 4,
 "nbformat_minor": 2
}
